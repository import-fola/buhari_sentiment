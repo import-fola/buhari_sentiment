{
 "cells": [
  {
   "cell_type": "code",
   "execution_count": 106,
   "metadata": {
    "collapsed": true
   },
   "outputs": [],
   "source": [
    "import pandas as pd\n",
    "import numpy as np\n",
    "import seaborn as sns\n",
    "import tweepy\n",
    "from tweepy import OAuthHandler\n",
    "import yaml\n",
    "import os\n",
    "import json\n",
    "import searchtweets\n",
    "%matplotlib inline"
   ]
  },
  {
   "cell_type": "code",
   "execution_count": 107,
   "metadata": {
    "collapsed": true
   },
   "outputs": [],
   "source": [
    "with open('config.yaml', 'r') as file:\n",
    "    twitter_auth = yaml.load(file)"
   ]
  },
  {
   "cell_type": "code",
   "execution_count": 108,
   "metadata": {
    "collapsed": true
   },
   "outputs": [],
   "source": [
    "consumer_key = twitter_auth['consumer_key']\n",
    "consumer_secret= twitter_auth['consumer_secret']\n",
    "access_token = twitter_auth['access_token']\n",
    "access_token_secret = twitter_auth['access_token_secret']"
   ]
  },
  {
   "cell_type": "code",
   "execution_count": 109,
   "metadata": {
    "collapsed": true
   },
   "outputs": [],
   "source": [
    "auth = OAuthHandler(consumer_key, consumer_secret)\n",
    "auth.set_access_token(access_token, access_token_secret)\n",
    " \n",
    "api = tweepy.API(auth)"
   ]
  },
  {
   "cell_type": "code",
   "execution_count": 110,
   "metadata": {},
   "outputs": [
    {
     "name": "stderr",
     "output_type": "stream",
     "text": [
      "Grabbing bearer token from OAUTH\n"
     ]
    }
   ],
   "source": [
    "premium_search_args = searchtweets.load_credentials(\".twitter_keys.yaml\",\n",
    "                                       yaml_key=\"search_tweets_api\",\n",
    "                                       env_overwrite=False)"
   ]
  },
  {
   "cell_type": "code",
   "execution_count": 82,
   "metadata": {
    "collapsed": true
   },
   "outputs": [],
   "source": [
    "dates = [\"2018-01-31\", \"2018-02-28\", \"2015-04-30\", \"2015-05-31\"],\n",
    "#          \"2016-01-31\", \"2016-02-28\", \"2016-04-30\", \"2016-05-31\", \n",
    "#          \"2017-01-31\", \"2017-02-28\", \"2017-04-30\", \"2017-05-31\"]"
   ]
  },
  {
   "cell_type": "code",
   "execution_count": 7,
   "metadata": {
    "collapsed": true
   },
   "outputs": [],
   "source": [
    "def retrieve_tweets(keyword=\"buhari\", from_date=\"\", to_date=\"\", no_results=100):\n",
    "    rule = searchtweets.gen_rule_payload(keyword,\n",
    "                        from_date=from_date,\n",
    "                        to_date=to_date,\n",
    "                        results_per_call=no_results)\n",
    "    rs = searchtweets.ResultStream(rule_payload=rule,\n",
    "                  max_results=no_results,\n",
    "                  max_pages=no_results,\n",
    "                  **premium_search_args)\n",
    "    tweets = list(rs.stream())\n",
    "    return tweets"
   ]
  },
  {
   "cell_type": "code",
   "execution_count": 83,
   "metadata": {
    "collapsed": true
   },
   "outputs": [],
   "source": [
    "tweets = []\n",
    "for date in dates:\n",
    "    tweets += [*retrieve_tweets(from_date=date+\" 12:00\", to_date=date+\" 17:00\")]"
   ]
  },
  {
   "cell_type": "code",
   "execution_count": 84,
   "metadata": {},
   "outputs": [
    {
     "data": {
      "text/plain": [
       "200"
      ]
     },
     "execution_count": 84,
     "metadata": {},
     "output_type": "execute_result"
    }
   ],
   "source": [
    "len(tweets)"
   ]
  },
  {
   "cell_type": "code",
   "execution_count": 23,
   "metadata": {},
   "outputs": [
    {
     "name": "stdout",
     "output_type": "stream",
     "text": [
      "#samsonhorla Buhari meets Service Chiefs today over Boko Haram:  The fate of all the Service C... http://t.co/5p5tn4HTRn #teamfollowback\n",
      "Nigeria: Buhari’s Biggest Challenge Is Tackling Corruption – Iko http://t.co/JnZWOMUC0J\n",
      "Buhari meets Service Chiefs today over Boko Haram:  The fate of all the Service Chiefs will b... http://t.co/NWQSTeLmLp #Nigeria Comment\n",
      "Buhari meets Service Chiefs today over Boko Haram:  The fate of all the Service Chiefs will be determined toda... http://t.co/6TKuAQyNiD\n",
      "Dear Gov @elrufai\n",
      "As President Buhari is heading to Chad, is he going to plan more BH attacks with Idris Deby?\n",
      "Sincerely yours\n",
      "Buhari/Osinbajo asset will be made public after due process as it will be checked in &amp; audit it value figures 1st https://t.co/ZcLSzMM1q0\n",
      "GEJ fails to declare assets publicly #ProCorruption  GMB does same - CCB logic.  GEJ visits Chad on BH - Incompetent  GMB does same - Hero.\n",
      "APC Senator-elect, Shehu Sani, Cautions Buhari on 'First Lady': http://t.co/uGyDTQtQk4 via @premiumtimesng\n",
      "Sound it!!! Better person. \n",
      "*Must read for all*\n",
      "http://t.co/U3N9m5LWfF\n",
      "#Nigeria Egypt to Buhari: deliver on your inaugural promises http://t.co/ymJwaHdqNX  #Nigerianews\n",
      "@Ibilola_Amao @APCUKingdom @ogundamisi @MBuhari:No amount campaign of calumny will stop Pres. Buhari frm succeeding,d people are behind him\n"
     ]
    }
   ],
   "source": [
    "[print(tweet.all_text) for tweet in all_tweets[0:10]];"
   ]
  },
  {
   "cell_type": "code",
   "execution_count": 24,
   "metadata": {},
   "outputs": [
    {
     "data": {
      "text/plain": [
       "{'created_at': 'Mon Jun 01 23:58:59 +0000 2015',\n",
       " 'id': 605523971967025152,\n",
       " 'id_str': '605523971967025152',\n",
       " 'text': '#samsonhorla Buhari meets Service Chiefs today over Boko Haram:  The fate of all the Service C... http://t.co/5p5tn4HTRn #teamfollowback',\n",
       " 'source': '<a href=\"http://twitterfeed.com\" rel=\"nofollow\">twitterfeed</a>',\n",
       " 'truncated': False,\n",
       " 'in_reply_to_status_id': None,\n",
       " 'in_reply_to_status_id_str': None,\n",
       " 'in_reply_to_user_id': None,\n",
       " 'in_reply_to_user_id_str': None,\n",
       " 'in_reply_to_screen_name': None,\n",
       " 'user': {'id': 242893381,\n",
       "  'id_str': '242893381',\n",
       "  'name': 'I_AM_SUREGUY',\n",
       "  'screen_name': 'samsonhorla',\n",
       "  'location': 'Nigeria',\n",
       "  'url': 'https://twitter.com',\n",
       "  'description': 'I rep #teamGOD, #teamSUREGUY, #teamEconomics, #teamBarca #teamLOVINGGUY, #teamOOU, #teamFOLLOWBACK',\n",
       "  'translator_type': 'none',\n",
       "  'protected': False,\n",
       "  'verified': False,\n",
       "  'followers_count': 1182,\n",
       "  'friends_count': 760,\n",
       "  'listed_count': 33,\n",
       "  'favourites_count': 51,\n",
       "  'statuses_count': 99787,\n",
       "  'created_at': 'Tue Jan 25 20:59:18 +0000 2011',\n",
       "  'utc_offset': None,\n",
       "  'time_zone': None,\n",
       "  'geo_enabled': False,\n",
       "  'lang': 'en',\n",
       "  'contributors_enabled': False,\n",
       "  'is_translator': False,\n",
       "  'profile_background_color': 'C0DEED',\n",
       "  'profile_background_image_url': 'http://abs.twimg.com/images/themes/theme1/bg.png',\n",
       "  'profile_background_image_url_https': 'https://abs.twimg.com/images/themes/theme1/bg.png',\n",
       "  'profile_background_tile': False,\n",
       "  'profile_link_color': '1DA1F2',\n",
       "  'profile_sidebar_border_color': 'C0DEED',\n",
       "  'profile_sidebar_fill_color': 'DDEEF6',\n",
       "  'profile_text_color': '333333',\n",
       "  'profile_use_background_image': True,\n",
       "  'profile_image_url': 'http://pbs.twimg.com/profile_images/936131069602082816/SRxRcgW3_normal.jpg',\n",
       "  'profile_image_url_https': 'https://pbs.twimg.com/profile_images/936131069602082816/SRxRcgW3_normal.jpg',\n",
       "  'default_profile': True,\n",
       "  'default_profile_image': False,\n",
       "  'following': None,\n",
       "  'follow_request_sent': None,\n",
       "  'notifications': None},\n",
       " 'geo': None,\n",
       " 'coordinates': None,\n",
       " 'place': None,\n",
       " 'contributors': None,\n",
       " 'is_quote_status': False,\n",
       " 'quote_count': 0,\n",
       " 'reply_count': 0,\n",
       " 'retweet_count': 1,\n",
       " 'favorite_count': 0,\n",
       " 'entities': {'hashtags': [{'text': 'samsonhorla', 'indices': [0, 12]},\n",
       "   {'text': 'teamfollowback', 'indices': [121, 136]}],\n",
       "  'urls': [{'url': 'http://t.co/5p5tn4HTRn',\n",
       "    'expanded_url': 'http://bit.ly/1BEJCFS',\n",
       "    'display_url': 'bit.ly/1BEJCFS',\n",
       "    'indices': [98, 120]}],\n",
       "  'user_mentions': [],\n",
       "  'symbols': []},\n",
       " 'favorited': False,\n",
       " 'retweeted': False,\n",
       " 'possibly_sensitive': False,\n",
       " 'filter_level': 'low',\n",
       " 'lang': 'en',\n",
       " 'matching_rules': [{'tag': None}]}"
      ]
     },
     "execution_count": 24,
     "metadata": {},
     "output_type": "execute_result"
    }
   ],
   "source": [
    "all_tweets[0]"
   ]
  },
  {
   "cell_type": "code",
   "execution_count": 33,
   "metadata": {},
   "outputs": [
    {
     "data": {
      "text/plain": [
       "Index(['contributors', 'coordinates', 'created_at', 'display_text_range',\n",
       "       'entities', 'extended_entities', 'extended_tweet', 'favorite_count',\n",
       "       'favorited', 'filter_level', 'geo', 'id', 'id_str',\n",
       "       'in_reply_to_screen_name', 'in_reply_to_status_id',\n",
       "       'in_reply_to_status_id_str', 'in_reply_to_user_id',\n",
       "       'in_reply_to_user_id_str', 'is_quote_status', 'lang', 'matching_rules',\n",
       "       'place', 'possibly_sensitive', 'quote_count', 'quoted_status',\n",
       "       'quoted_status_id', 'quoted_status_id_str', 'quoted_status_permalink',\n",
       "       'reply_count', 'retweet_count', 'retweeted', 'retweeted_status',\n",
       "       'source', 'text', 'truncated', 'user'],\n",
       "      dtype='object')"
      ]
     },
     "execution_count": 33,
     "metadata": {},
     "output_type": "execute_result"
    }
   ],
   "source": [
    "tweets_df.columns"
   ]
  },
  {
   "cell_type": "code",
   "execution_count": 30,
   "metadata": {},
   "outputs": [
    {
     "data": {
      "text/html": [
       "<div>\n",
       "<style scoped>\n",
       "    .dataframe tbody tr th:only-of-type {\n",
       "        vertical-align: middle;\n",
       "    }\n",
       "\n",
       "    .dataframe tbody tr th {\n",
       "        vertical-align: top;\n",
       "    }\n",
       "\n",
       "    .dataframe thead th {\n",
       "        text-align: right;\n",
       "    }\n",
       "</style>\n",
       "<table border=\"1\" class=\"dataframe\">\n",
       "  <thead>\n",
       "    <tr style=\"text-align: right;\">\n",
       "      <th></th>\n",
       "      <th>contributors</th>\n",
       "      <th>coordinates</th>\n",
       "      <th>created_at</th>\n",
       "      <th>display_text_range</th>\n",
       "      <th>entities</th>\n",
       "      <th>extended_entities</th>\n",
       "      <th>extended_tweet</th>\n",
       "      <th>favorite_count</th>\n",
       "      <th>favorited</th>\n",
       "      <th>filter_level</th>\n",
       "      <th>...</th>\n",
       "      <th>quoted_status_id_str</th>\n",
       "      <th>quoted_status_permalink</th>\n",
       "      <th>reply_count</th>\n",
       "      <th>retweet_count</th>\n",
       "      <th>retweeted</th>\n",
       "      <th>retweeted_status</th>\n",
       "      <th>source</th>\n",
       "      <th>text</th>\n",
       "      <th>truncated</th>\n",
       "      <th>user</th>\n",
       "    </tr>\n",
       "  </thead>\n",
       "  <tbody>\n",
       "    <tr>\n",
       "      <th>0</th>\n",
       "      <td>None</td>\n",
       "      <td>None</td>\n",
       "      <td>Mon Jun 01 23:58:59 +0000 2015</td>\n",
       "      <td>NaN</td>\n",
       "      <td>{'hashtags': [{'text': 'samsonhorla', 'indices...</td>\n",
       "      <td>NaN</td>\n",
       "      <td>NaN</td>\n",
       "      <td>0</td>\n",
       "      <td>False</td>\n",
       "      <td>low</td>\n",
       "      <td>...</td>\n",
       "      <td>NaN</td>\n",
       "      <td>NaN</td>\n",
       "      <td>0</td>\n",
       "      <td>1</td>\n",
       "      <td>False</td>\n",
       "      <td>NaN</td>\n",
       "      <td>&lt;a href=\"http://twitterfeed.com\" rel=\"nofollow...</td>\n",
       "      <td>#samsonhorla Buhari meets Service Chiefs today...</td>\n",
       "      <td>False</td>\n",
       "      <td>{'id': 242893381, 'id_str': '242893381', 'name...</td>\n",
       "    </tr>\n",
       "    <tr>\n",
       "      <th>1</th>\n",
       "      <td>None</td>\n",
       "      <td>None</td>\n",
       "      <td>Mon Jun 01 23:58:55 +0000 2015</td>\n",
       "      <td>NaN</td>\n",
       "      <td>{'hashtags': [], 'urls': [{'url': 'http://t.co...</td>\n",
       "      <td>NaN</td>\n",
       "      <td>NaN</td>\n",
       "      <td>0</td>\n",
       "      <td>False</td>\n",
       "      <td>low</td>\n",
       "      <td>...</td>\n",
       "      <td>NaN</td>\n",
       "      <td>NaN</td>\n",
       "      <td>0</td>\n",
       "      <td>1</td>\n",
       "      <td>False</td>\n",
       "      <td>NaN</td>\n",
       "      <td>&lt;a href=\"http://www.occuworld.org\" rel=\"nofoll...</td>\n",
       "      <td>Nigeria: Buhari’s Biggest Challenge Is Tacklin...</td>\n",
       "      <td>False</td>\n",
       "      <td>{'id': 1179710990, 'id_str': '1179710990', 'na...</td>\n",
       "    </tr>\n",
       "    <tr>\n",
       "      <th>2</th>\n",
       "      <td>None</td>\n",
       "      <td>None</td>\n",
       "      <td>Mon Jun 01 23:58:55 +0000 2015</td>\n",
       "      <td>NaN</td>\n",
       "      <td>{'hashtags': [{'text': 'Nigeria', 'indices': [...</td>\n",
       "      <td>NaN</td>\n",
       "      <td>NaN</td>\n",
       "      <td>0</td>\n",
       "      <td>False</td>\n",
       "      <td>low</td>\n",
       "      <td>...</td>\n",
       "      <td>NaN</td>\n",
       "      <td>NaN</td>\n",
       "      <td>0</td>\n",
       "      <td>0</td>\n",
       "      <td>False</td>\n",
       "      <td>NaN</td>\n",
       "      <td>&lt;a href=\"http://twitterfeed.com\" rel=\"nofollow...</td>\n",
       "      <td>Buhari meets Service Chiefs today over Boko Ha...</td>\n",
       "      <td>False</td>\n",
       "      <td>{'id': 914750738, 'id_str': '914750738', 'name...</td>\n",
       "    </tr>\n",
       "    <tr>\n",
       "      <th>3</th>\n",
       "      <td>None</td>\n",
       "      <td>None</td>\n",
       "      <td>Mon Jun 01 23:58:55 +0000 2015</td>\n",
       "      <td>NaN</td>\n",
       "      <td>{'hashtags': [], 'urls': [{'url': 'http://t.co...</td>\n",
       "      <td>NaN</td>\n",
       "      <td>NaN</td>\n",
       "      <td>0</td>\n",
       "      <td>False</td>\n",
       "      <td>low</td>\n",
       "      <td>...</td>\n",
       "      <td>NaN</td>\n",
       "      <td>NaN</td>\n",
       "      <td>0</td>\n",
       "      <td>0</td>\n",
       "      <td>False</td>\n",
       "      <td>NaN</td>\n",
       "      <td>&lt;a href=\"http://twitterfeed.com\" rel=\"nofollow...</td>\n",
       "      <td>Buhari meets Service Chiefs today over Boko Ha...</td>\n",
       "      <td>False</td>\n",
       "      <td>{'id': 971051394, 'id_str': '971051394', 'name...</td>\n",
       "    </tr>\n",
       "    <tr>\n",
       "      <th>4</th>\n",
       "      <td>None</td>\n",
       "      <td>None</td>\n",
       "      <td>Mon Jun 01 23:58:53 +0000 2015</td>\n",
       "      <td>NaN</td>\n",
       "      <td>{'hashtags': [], 'urls': [], 'user_mentions': ...</td>\n",
       "      <td>NaN</td>\n",
       "      <td>NaN</td>\n",
       "      <td>0</td>\n",
       "      <td>False</td>\n",
       "      <td>low</td>\n",
       "      <td>...</td>\n",
       "      <td>NaN</td>\n",
       "      <td>NaN</td>\n",
       "      <td>0</td>\n",
       "      <td>0</td>\n",
       "      <td>False</td>\n",
       "      <td>{'created_at': 'Mon Jun 01 22:18:43 +0000 2015...</td>\n",
       "      <td>&lt;a href=\"http://twitter.com/download/iphone\" r...</td>\n",
       "      <td>RT @countfreemont: Dear Gov @elrufai\\nAs Presi...</td>\n",
       "      <td>False</td>\n",
       "      <td>{'id': 2992533929, 'id_str': '2992533929', 'na...</td>\n",
       "    </tr>\n",
       "  </tbody>\n",
       "</table>\n",
       "<p>5 rows × 36 columns</p>\n",
       "</div>"
      ],
      "text/plain": [
       "  contributors coordinates                      created_at display_text_range  \\\n",
       "0         None        None  Mon Jun 01 23:58:59 +0000 2015                NaN   \n",
       "1         None        None  Mon Jun 01 23:58:55 +0000 2015                NaN   \n",
       "2         None        None  Mon Jun 01 23:58:55 +0000 2015                NaN   \n",
       "3         None        None  Mon Jun 01 23:58:55 +0000 2015                NaN   \n",
       "4         None        None  Mon Jun 01 23:58:53 +0000 2015                NaN   \n",
       "\n",
       "                                            entities extended_entities  \\\n",
       "0  {'hashtags': [{'text': 'samsonhorla', 'indices...               NaN   \n",
       "1  {'hashtags': [], 'urls': [{'url': 'http://t.co...               NaN   \n",
       "2  {'hashtags': [{'text': 'Nigeria', 'indices': [...               NaN   \n",
       "3  {'hashtags': [], 'urls': [{'url': 'http://t.co...               NaN   \n",
       "4  {'hashtags': [], 'urls': [], 'user_mentions': ...               NaN   \n",
       "\n",
       "  extended_tweet  favorite_count  favorited filter_level  \\\n",
       "0            NaN               0      False          low   \n",
       "1            NaN               0      False          low   \n",
       "2            NaN               0      False          low   \n",
       "3            NaN               0      False          low   \n",
       "4            NaN               0      False          low   \n",
       "\n",
       "                         ...                         quoted_status_id_str  \\\n",
       "0                        ...                                          NaN   \n",
       "1                        ...                                          NaN   \n",
       "2                        ...                                          NaN   \n",
       "3                        ...                                          NaN   \n",
       "4                        ...                                          NaN   \n",
       "\n",
       "   quoted_status_permalink reply_count retweet_count  retweeted  \\\n",
       "0                      NaN           0             1      False   \n",
       "1                      NaN           0             1      False   \n",
       "2                      NaN           0             0      False   \n",
       "3                      NaN           0             0      False   \n",
       "4                      NaN           0             0      False   \n",
       "\n",
       "                                    retweeted_status  \\\n",
       "0                                                NaN   \n",
       "1                                                NaN   \n",
       "2                                                NaN   \n",
       "3                                                NaN   \n",
       "4  {'created_at': 'Mon Jun 01 22:18:43 +0000 2015...   \n",
       "\n",
       "                                              source  \\\n",
       "0  <a href=\"http://twitterfeed.com\" rel=\"nofollow...   \n",
       "1  <a href=\"http://www.occuworld.org\" rel=\"nofoll...   \n",
       "2  <a href=\"http://twitterfeed.com\" rel=\"nofollow...   \n",
       "3  <a href=\"http://twitterfeed.com\" rel=\"nofollow...   \n",
       "4  <a href=\"http://twitter.com/download/iphone\" r...   \n",
       "\n",
       "                                                text  truncated  \\\n",
       "0  #samsonhorla Buhari meets Service Chiefs today...      False   \n",
       "1  Nigeria: Buhari’s Biggest Challenge Is Tacklin...      False   \n",
       "2  Buhari meets Service Chiefs today over Boko Ha...      False   \n",
       "3  Buhari meets Service Chiefs today over Boko Ha...      False   \n",
       "4  RT @countfreemont: Dear Gov @elrufai\\nAs Presi...      False   \n",
       "\n",
       "                                                user  \n",
       "0  {'id': 242893381, 'id_str': '242893381', 'name...  \n",
       "1  {'id': 1179710990, 'id_str': '1179710990', 'na...  \n",
       "2  {'id': 914750738, 'id_str': '914750738', 'name...  \n",
       "3  {'id': 971051394, 'id_str': '971051394', 'name...  \n",
       "4  {'id': 2992533929, 'id_str': '2992533929', 'na...  \n",
       "\n",
       "[5 rows x 36 columns]"
      ]
     },
     "execution_count": 30,
     "metadata": {},
     "output_type": "execute_result"
    }
   ],
   "source": [
    "tweets_df.head()"
   ]
  },
  {
   "cell_type": "code",
   "execution_count": 85,
   "metadata": {},
   "outputs": [
    {
     "name": "stderr",
     "output_type": "stream",
     "text": [
      "/Users/frederickodukomaiya/anaconda/envs/nlp/lib/python3.6/site-packages/ipykernel/__main__.py:1: FutureWarning: Sorting because non-concatenation axis is not aligned. A future version\n",
      "of pandas will change to not sort by default.\n",
      "\n",
      "To accept the future behavior, pass 'sort=False'.\n",
      "\n",
      "To retain the current behavior and silence the warning, pass 'sort=True'.\n",
      "\n",
      "  if __name__ == '__main__':\n"
     ]
    }
   ],
   "source": [
    "tweets_df = pd.concat([tweets_df, pd.DataFrame(tweets)])"
   ]
  },
  {
   "cell_type": "code",
   "execution_count": 86,
   "metadata": {},
   "outputs": [
    {
     "data": {
      "text/plain": [
       "(4300, 37)"
      ]
     },
     "execution_count": 86,
     "metadata": {},
     "output_type": "execute_result"
    }
   ],
   "source": [
    "tweets_df.shape"
   ]
  },
  {
   "cell_type": "code",
   "execution_count": 87,
   "metadata": {
    "collapsed": true
   },
   "outputs": [],
   "source": [
    "tweets_df.created_at = pd.to_datetime(tweets_df.created_at)"
   ]
  },
  {
   "cell_type": "code",
   "execution_count": 62,
   "metadata": {
    "collapsed": true
   },
   "outputs": [],
   "source": [
    "tweets_df.to_csv(\"./data/buhari_tweets.csv\")"
   ]
  },
  {
   "cell_type": "code",
   "execution_count": 88,
   "metadata": {
    "collapsed": true
   },
   "outputs": [],
   "source": [
    "tweets_df['created_date'] = tweets_df.created_at.apply(lambda x : x.strftime(\"%b %Y\"))"
   ]
  },
  {
   "cell_type": "code",
   "execution_count": 89,
   "metadata": {
    "collapsed": true
   },
   "outputs": [],
   "source": [
    "tweets_df.sort_values(by=[\"created_at\"], inplace=True)"
   ]
  },
  {
   "cell_type": "code",
   "execution_count": 91,
   "metadata": {
    "collapsed": true
   },
   "outputs": [],
   "source": [
    "tweets_df.reset_index(drop=True, inplace=True)"
   ]
  },
  {
   "cell_type": "code",
   "execution_count": 90,
   "metadata": {},
   "outputs": [
    {
     "data": {
      "text/plain": [
       "array(['Jan 2015', 'Feb 2015', 'Apr 2015', 'May 2015', 'Jun 2015',\n",
       "       'Jul 2015', 'Aug 2015', 'Sep 2015', 'Oct 2015', 'Nov 2015',\n",
       "       'Dec 2015', 'Jan 2016', 'Feb 2016', 'Mar 2016', 'Apr 2016',\n",
       "       'May 2016', 'Jun 2016', 'Jul 2016', 'Aug 2016', 'Sep 2016',\n",
       "       'Oct 2016', 'Nov 2016', 'Dec 2016', 'Jan 2017', 'Feb 2017',\n",
       "       'Mar 2017', 'Apr 2017', 'May 2017', 'Jun 2017', 'Jul 2017',\n",
       "       'Aug 2017', 'Sep 2017', 'Oct 2017', 'Nov 2017', 'Dec 2017',\n",
       "       'Jan 2018', 'Feb 2018', 'Mar 2018', 'Jun 2018', 'Jul 2018',\n",
       "       'Aug 2018', 'Sep 2018', 'Dec 2018'], dtype=object)"
      ]
     },
     "execution_count": 90,
     "metadata": {},
     "output_type": "execute_result"
    }
   ],
   "source": [
    "tweets_df.created_date.unique()"
   ]
  },
  {
   "cell_type": "code",
   "execution_count": 92,
   "metadata": {},
   "outputs": [
    {
     "data": {
      "text/html": [
       "<div>\n",
       "<style scoped>\n",
       "    .dataframe tbody tr th:only-of-type {\n",
       "        vertical-align: middle;\n",
       "    }\n",
       "\n",
       "    .dataframe tbody tr th {\n",
       "        vertical-align: top;\n",
       "    }\n",
       "\n",
       "    .dataframe thead th {\n",
       "        text-align: right;\n",
       "    }\n",
       "</style>\n",
       "<table border=\"1\" class=\"dataframe\">\n",
       "  <thead>\n",
       "    <tr style=\"text-align: right;\">\n",
       "      <th></th>\n",
       "      <th>contributors</th>\n",
       "      <th>coordinates</th>\n",
       "      <th>created_at</th>\n",
       "      <th>created_date</th>\n",
       "      <th>display_text_range</th>\n",
       "      <th>entities</th>\n",
       "      <th>extended_entities</th>\n",
       "      <th>extended_tweet</th>\n",
       "      <th>favorite_count</th>\n",
       "      <th>favorited</th>\n",
       "      <th>...</th>\n",
       "      <th>quoted_status_id_str</th>\n",
       "      <th>quoted_status_permalink</th>\n",
       "      <th>reply_count</th>\n",
       "      <th>retweet_count</th>\n",
       "      <th>retweeted</th>\n",
       "      <th>retweeted_status</th>\n",
       "      <th>source</th>\n",
       "      <th>text</th>\n",
       "      <th>truncated</th>\n",
       "      <th>user</th>\n",
       "    </tr>\n",
       "  </thead>\n",
       "  <tbody>\n",
       "    <tr>\n",
       "      <th>0</th>\n",
       "      <td>None</td>\n",
       "      <td>None</td>\n",
       "      <td>2015-01-31 16:57:07</td>\n",
       "      <td>Jan 2015</td>\n",
       "      <td>NaN</td>\n",
       "      <td>{'hashtags': [], 'urls': [{'url': 'http://t.co...</td>\n",
       "      <td>NaN</td>\n",
       "      <td>NaN</td>\n",
       "      <td>0</td>\n",
       "      <td>False</td>\n",
       "      <td>...</td>\n",
       "      <td>NaN</td>\n",
       "      <td>NaN</td>\n",
       "      <td>0</td>\n",
       "      <td>0</td>\n",
       "      <td>False</td>\n",
       "      <td>NaN</td>\n",
       "      <td>&lt;a href=\"https://dlvrit.com/\" rel=\"nofollow\"&gt;d...</td>\n",
       "      <td>I sacrificed my presidential ambition for Buha...</td>\n",
       "      <td>False</td>\n",
       "      <td>{'id': 801409232, 'id_str': '801409232', 'name...</td>\n",
       "    </tr>\n",
       "    <tr>\n",
       "      <th>1</th>\n",
       "      <td>None</td>\n",
       "      <td>None</td>\n",
       "      <td>2015-01-31 16:57:08</td>\n",
       "      <td>Jan 2015</td>\n",
       "      <td>NaN</td>\n",
       "      <td>{'hashtags': [], 'urls': [], 'user_mentions': ...</td>\n",
       "      <td>NaN</td>\n",
       "      <td>NaN</td>\n",
       "      <td>0</td>\n",
       "      <td>False</td>\n",
       "      <td>...</td>\n",
       "      <td>NaN</td>\n",
       "      <td>NaN</td>\n",
       "      <td>0</td>\n",
       "      <td>4</td>\n",
       "      <td>False</td>\n",
       "      <td>NaN</td>\n",
       "      <td>&lt;a href=\"http://www.twitter.com\" rel=\"nofollow...</td>\n",
       "      <td>Buhari was stoned in Lagos -Obanikoro insists ...</td>\n",
       "      <td>False</td>\n",
       "      <td>{'id': 42841145, 'id_str': '42841145', 'name':...</td>\n",
       "    </tr>\n",
       "    <tr>\n",
       "      <th>2</th>\n",
       "      <td>None</td>\n",
       "      <td>None</td>\n",
       "      <td>2015-01-31 16:57:23</td>\n",
       "      <td>Jan 2015</td>\n",
       "      <td>NaN</td>\n",
       "      <td>{'hashtags': [], 'urls': [], 'user_mentions': ...</td>\n",
       "      <td>NaN</td>\n",
       "      <td>NaN</td>\n",
       "      <td>0</td>\n",
       "      <td>False</td>\n",
       "      <td>...</td>\n",
       "      <td>NaN</td>\n",
       "      <td>NaN</td>\n",
       "      <td>0</td>\n",
       "      <td>0</td>\n",
       "      <td>False</td>\n",
       "      <td>{'created_at': 'Sat Jan 31 16:53:08 +0000 2015...</td>\n",
       "      <td>&lt;a href=\"http://blackberry.com/twitter\" rel=\"n...</td>\n",
       "      <td>RT @eXpozeMagazine: How can Buhari claim he is...</td>\n",
       "      <td>False</td>\n",
       "      <td>{'id': 1924614565, 'id_str': '1924614565', 'na...</td>\n",
       "    </tr>\n",
       "    <tr>\n",
       "      <th>3</th>\n",
       "      <td>None</td>\n",
       "      <td>None</td>\n",
       "      <td>2015-01-31 16:57:24</td>\n",
       "      <td>Jan 2015</td>\n",
       "      <td>NaN</td>\n",
       "      <td>{'hashtags': [], 'urls': [{'url': 'http://t.co...</td>\n",
       "      <td>NaN</td>\n",
       "      <td>NaN</td>\n",
       "      <td>0</td>\n",
       "      <td>False</td>\n",
       "      <td>...</td>\n",
       "      <td>NaN</td>\n",
       "      <td>NaN</td>\n",
       "      <td>0</td>\n",
       "      <td>0</td>\n",
       "      <td>False</td>\n",
       "      <td>{'created_at': 'Fri Jan 30 16:15:15 +0000 2015...</td>\n",
       "      <td>&lt;a href=\"https://twitter.com/download/android\"...</td>\n",
       "      <td>RT @DailyPostNgr: Buhari is an illiterate – Ok...</td>\n",
       "      <td>False</td>\n",
       "      <td>{'id': 497973086, 'id_str': '497973086', 'name...</td>\n",
       "    </tr>\n",
       "    <tr>\n",
       "      <th>4</th>\n",
       "      <td>None</td>\n",
       "      <td>None</td>\n",
       "      <td>2015-01-31 16:57:26</td>\n",
       "      <td>Jan 2015</td>\n",
       "      <td>NaN</td>\n",
       "      <td>{'hashtags': [], 'urls': [], 'user_mentions': ...</td>\n",
       "      <td>NaN</td>\n",
       "      <td>NaN</td>\n",
       "      <td>0</td>\n",
       "      <td>False</td>\n",
       "      <td>...</td>\n",
       "      <td>NaN</td>\n",
       "      <td>NaN</td>\n",
       "      <td>0</td>\n",
       "      <td>0</td>\n",
       "      <td>False</td>\n",
       "      <td>{'created_at': 'Sat Jan 31 15:55:23 +0000 2015...</td>\n",
       "      <td>&lt;a href=\"http://www.twitter.com\" rel=\"nofollow...</td>\n",
       "      <td>RT @SaharaReporters: Buhari’s top three platfo...</td>\n",
       "      <td>False</td>\n",
       "      <td>{'id': 42841145, 'id_str': '42841145', 'name':...</td>\n",
       "    </tr>\n",
       "  </tbody>\n",
       "</table>\n",
       "<p>5 rows × 37 columns</p>\n",
       "</div>"
      ],
      "text/plain": [
       "  contributors coordinates          created_at created_date  \\\n",
       "0         None        None 2015-01-31 16:57:07     Jan 2015   \n",
       "1         None        None 2015-01-31 16:57:08     Jan 2015   \n",
       "2         None        None 2015-01-31 16:57:23     Jan 2015   \n",
       "3         None        None 2015-01-31 16:57:24     Jan 2015   \n",
       "4         None        None 2015-01-31 16:57:26     Jan 2015   \n",
       "\n",
       "  display_text_range                                           entities  \\\n",
       "0                NaN  {'hashtags': [], 'urls': [{'url': 'http://t.co...   \n",
       "1                NaN  {'hashtags': [], 'urls': [], 'user_mentions': ...   \n",
       "2                NaN  {'hashtags': [], 'urls': [], 'user_mentions': ...   \n",
       "3                NaN  {'hashtags': [], 'urls': [{'url': 'http://t.co...   \n",
       "4                NaN  {'hashtags': [], 'urls': [], 'user_mentions': ...   \n",
       "\n",
       "  extended_entities extended_tweet  favorite_count  favorited  \\\n",
       "0               NaN            NaN               0      False   \n",
       "1               NaN            NaN               0      False   \n",
       "2               NaN            NaN               0      False   \n",
       "3               NaN            NaN               0      False   \n",
       "4               NaN            NaN               0      False   \n",
       "\n",
       "                         ...                         quoted_status_id_str  \\\n",
       "0                        ...                                          NaN   \n",
       "1                        ...                                          NaN   \n",
       "2                        ...                                          NaN   \n",
       "3                        ...                                          NaN   \n",
       "4                        ...                                          NaN   \n",
       "\n",
       "  quoted_status_permalink  reply_count retweet_count retweeted  \\\n",
       "0                     NaN            0             0     False   \n",
       "1                     NaN            0             4     False   \n",
       "2                     NaN            0             0     False   \n",
       "3                     NaN            0             0     False   \n",
       "4                     NaN            0             0     False   \n",
       "\n",
       "                                    retweeted_status  \\\n",
       "0                                                NaN   \n",
       "1                                                NaN   \n",
       "2  {'created_at': 'Sat Jan 31 16:53:08 +0000 2015...   \n",
       "3  {'created_at': 'Fri Jan 30 16:15:15 +0000 2015...   \n",
       "4  {'created_at': 'Sat Jan 31 15:55:23 +0000 2015...   \n",
       "\n",
       "                                              source  \\\n",
       "0  <a href=\"https://dlvrit.com/\" rel=\"nofollow\">d...   \n",
       "1  <a href=\"http://www.twitter.com\" rel=\"nofollow...   \n",
       "2  <a href=\"http://blackberry.com/twitter\" rel=\"n...   \n",
       "3  <a href=\"https://twitter.com/download/android\"...   \n",
       "4  <a href=\"http://www.twitter.com\" rel=\"nofollow...   \n",
       "\n",
       "                                                text truncated  \\\n",
       "0  I sacrificed my presidential ambition for Buha...     False   \n",
       "1  Buhari was stoned in Lagos -Obanikoro insists ...     False   \n",
       "2  RT @eXpozeMagazine: How can Buhari claim he is...     False   \n",
       "3  RT @DailyPostNgr: Buhari is an illiterate – Ok...     False   \n",
       "4  RT @SaharaReporters: Buhari’s top three platfo...     False   \n",
       "\n",
       "                                                user  \n",
       "0  {'id': 801409232, 'id_str': '801409232', 'name...  \n",
       "1  {'id': 42841145, 'id_str': '42841145', 'name':...  \n",
       "2  {'id': 1924614565, 'id_str': '1924614565', 'na...  \n",
       "3  {'id': 497973086, 'id_str': '497973086', 'name...  \n",
       "4  {'id': 42841145, 'id_str': '42841145', 'name':...  \n",
       "\n",
       "[5 rows x 37 columns]"
      ]
     },
     "execution_count": 92,
     "metadata": {},
     "output_type": "execute_result"
    }
   ],
   "source": [
    "tweets_df.head()"
   ]
  },
  {
   "cell_type": "code",
   "execution_count": 101,
   "metadata": {},
   "outputs": [
    {
     "data": {
      "text/plain": [
       "{'id': 801409232,\n",
       " 'id_str': '801409232',\n",
       " 'name': 'Bidemi kosoko',\n",
       " 'screen_name': 'bidemi_kosoko',\n",
       " 'location': 'Lagos, Nigeria',\n",
       " 'url': None,\n",
       " 'description': 'best yoruba Nollywood act #ANTP , http://facebook.com/kosokobidemi',\n",
       " 'translator_type': 'none',\n",
       " 'protected': False,\n",
       " 'verified': False,\n",
       " 'followers_count': 4042,\n",
       " 'friends_count': 1532,\n",
       " 'listed_count': 22,\n",
       " 'favourites_count': 5,\n",
       " 'statuses_count': 63860,\n",
       " 'created_at': 'Mon Sep 03 23:15:12 +0000 2012',\n",
       " 'utc_offset': None,\n",
       " 'time_zone': None,\n",
       " 'geo_enabled': False,\n",
       " 'lang': 'en',\n",
       " 'contributors_enabled': False,\n",
       " 'is_translator': False,\n",
       " 'profile_background_color': '352726',\n",
       " 'profile_background_image_url': 'http://abs.twimg.com/images/themes/theme5/bg.gif',\n",
       " 'profile_background_image_url_https': 'https://abs.twimg.com/images/themes/theme5/bg.gif',\n",
       " 'profile_background_tile': False,\n",
       " 'profile_link_color': 'D02B55',\n",
       " 'profile_sidebar_border_color': '829D5E',\n",
       " 'profile_sidebar_fill_color': '99CC33',\n",
       " 'profile_text_color': '3E4415',\n",
       " 'profile_use_background_image': True,\n",
       " 'profile_image_url': 'http://pbs.twimg.com/profile_images/741657845599469568/aql7LiYU_normal.jpg',\n",
       " 'profile_image_url_https': 'https://pbs.twimg.com/profile_images/741657845599469568/aql7LiYU_normal.jpg',\n",
       " 'profile_banner_url': 'https://pbs.twimg.com/profile_banners/801409232/1425045229',\n",
       " 'default_profile': False,\n",
       " 'default_profile_image': False,\n",
       " 'following': None,\n",
       " 'follow_request_sent': None,\n",
       " 'notifications': None}"
      ]
     },
     "execution_count": 101,
     "metadata": {},
     "output_type": "execute_result"
    }
   ],
   "source": [
    "tweets_df.user[0]"
   ]
  },
  {
   "cell_type": "code",
   "execution_count": 102,
   "metadata": {
    "collapsed": true
   },
   "outputs": [],
   "source": [
    "tweets_df['username'] = tweets_df.user.apply(lambda x: x['name'])\n",
    "tweets_df['user_location'] = tweets_df.user.apply(lambda x: x['location'])"
   ]
  },
  {
   "cell_type": "code",
   "execution_count": 105,
   "metadata": {
    "scrolled": true
   },
   "outputs": [
    {
     "data": {
      "text/plain": [
       "Nigeria                                     426\n",
       "Lagos, Nigeria                              300\n",
       "Abuja, Nigeria                              131\n",
       "Lagos                                        88\n",
       "Abuja                                        79\n",
       "Lagos Nigeria                                33\n",
       "Biafra                                       24\n",
       "Kaduna, Nigeria                              21\n",
       "Africa                                       21\n",
       "Houston TX                                   21\n",
       "Port Harcourt, Nigeria                       20\n",
       "lagos                                        20\n",
       "Germany                                      20\n",
       "Worldwide                                    19\n",
       "Nigeria                                      17\n",
       "NIGERIA                                      16\n",
       "Lagos, Nigeria.                              16\n",
       "Kano, Nigeria                                16\n",
       "İstanbul, Türkiye                            15\n",
       "Tottenham, London                            15\n",
       "United States                                15\n",
       "Federal Capital Territory, Nig               14\n",
       "London                                       14\n",
       "Helmond, Nederland                           13\n",
       "Lagos,Nigeria                                12\n",
       "Canada                                       11\n",
       "Malaysia                                     10\n",
       "United Kingdom                               10\n",
       "Abuja,Nigeria                                10\n",
       "Earth                                         9\n",
       "                                           ... \n",
       "lagos                                         1\n",
       "Anambra Biafra                                1\n",
       "Nigeria, Africa.                              1\n",
       "Des Plaines, IL                               1\n",
       "Birmingham, England                           1\n",
       "FuehrerBunker                                 1\n",
       "Port Harcourt|Aba|Jos|Onitsha|Sabon Gida      1\n",
       "Lagos, nigeria                                1\n",
       "Twitterverse                                  1\n",
       "Guinée-Conakry                                1\n",
       "Gusau, Zamfara State. Nigeria                 1\n",
       "Six feet under.                               1\n",
       "Çanakkale-İstanbul                            1\n",
       "Wherever my passions lead me.                 1\n",
       "Closer than you think                         1\n",
       "FRANCE                                        1\n",
       "Abuja NG                                      1\n",
       "Abak, Nigeria                                 1\n",
       "Some where around the world                   1\n",
       "a bookstore nearby                            1\n",
       "Rivers, Port Harcourt                         1\n",
       "Hackney, London                               1\n",
       "BELEŞ'tepe Hırsızlar Mahallesi                1\n",
       "Akure, Nigeria                                1\n",
       "District Pictures Media HQ                    1\n",
       "South Jersey                                  1\n",
       "Omniverse                                     1\n",
       "Minäs Tirith                                  1\n",
       "Planet earth                                  1\n",
       "ÜT: 6.7212322,3.5060413                       1\n",
       "Name: user_location, Length: 1064, dtype: int64"
      ]
     },
     "execution_count": 105,
     "metadata": {},
     "output_type": "execute_result"
    }
   ],
   "source": [
    "tweets_df.user_location.value_counts()"
   ]
  },
  {
   "cell_type": "code",
   "execution_count": null,
   "metadata": {
    "collapsed": true
   },
   "outputs": [],
   "source": []
  }
 ],
 "metadata": {
  "kernelspec": {
   "display_name": "Python [default]",
   "language": "python",
   "name": "python3"
  },
  "language_info": {
   "codemirror_mode": {
    "name": "ipython",
    "version": 3
   },
   "file_extension": ".py",
   "mimetype": "text/x-python",
   "name": "python",
   "nbconvert_exporter": "python",
   "pygments_lexer": "ipython3",
   "version": "3.6.6"
  }
 },
 "nbformat": 4,
 "nbformat_minor": 2
}
