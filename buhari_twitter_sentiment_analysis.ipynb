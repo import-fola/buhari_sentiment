{
 "cells": [
  {
   "cell_type": "code",
   "execution_count": 139,
   "metadata": {},
   "outputs": [
    {
     "ename": "ModuleNotFoundError",
     "evalue": "No module named 'gensim'",
     "output_type": "error",
     "traceback": [
      "\u001b[0;31m---------------------------------------------------------------------------\u001b[0m",
      "\u001b[0;31mModuleNotFoundError\u001b[0m                       Traceback (most recent call last)",
      "\u001b[0;32m<ipython-input-139-3b26ac40918e>\u001b[0m in \u001b[0;36m<module>\u001b[0;34m()\u001b[0m\n\u001b[1;32m     10\u001b[0m \u001b[0;32mimport\u001b[0m \u001b[0mast\u001b[0m\u001b[0;34m\u001b[0m\u001b[0m\n\u001b[1;32m     11\u001b[0m \u001b[0;32mimport\u001b[0m \u001b[0mcsv\u001b[0m\u001b[0;34m\u001b[0m\u001b[0m\n\u001b[0;32m---> 12\u001b[0;31m \u001b[0;32mimport\u001b[0m \u001b[0mgensim\u001b[0m\u001b[0;34m\u001b[0m\u001b[0m\n\u001b[0m\u001b[1;32m     13\u001b[0m \u001b[0;32mimport\u001b[0m \u001b[0msearchtweets\u001b[0m\u001b[0;34m\u001b[0m\u001b[0m\n\u001b[1;32m     14\u001b[0m \u001b[0;34m\u001b[0m\u001b[0m\n",
      "\u001b[0;31mModuleNotFoundError\u001b[0m: No module named 'gensim'"
     ]
    }
   ],
   "source": [
    "import pandas as pd\n",
    "import numpy as np\n",
    "import seaborn as sns\n",
    "# import tweepy\n",
    "# from tweepy import OAuthHandler\n",
    "import yaml\n",
    "import os\n",
    "import json\n",
    "import re\n",
    "import ast\n",
    "import csv\n",
    "import gensim\n",
    "import searchtweets\n",
    "\n",
    "%matplotlib inline"
   ]
  },
  {
   "cell_type": "code",
   "execution_count": 2,
   "metadata": {},
   "outputs": [],
   "source": [
    "## open twitter authentication details\n",
    "with open('config.yaml', 'r') as file:\n",
    "    twitter_auth = yaml.load(file)"
   ]
  },
  {
   "cell_type": "code",
   "execution_count": 3,
   "metadata": {},
   "outputs": [],
   "source": [
    "# Twitter auth details\n",
    "consumer_key = twitter_auth['consumer_key']\n",
    "consumer_secret= twitter_auth['consumer_secret']\n",
    "access_token = twitter_auth['access_token']\n",
    "access_token_secret = twitter_auth['access_token_secret']"
   ]
  },
  {
   "cell_type": "code",
   "execution_count": 4,
   "metadata": {},
   "outputs": [],
   "source": [
    "# Using tweepy to connect to twitter (not useful anymore)\n",
    "auth = OAuthHandler(consumer_key, consumer_secret)\n",
    "auth.set_access_token(access_token, access_token_secret)\n",
    " \n",
    "api = tweepy.API(auth)"
   ]
  },
  {
   "cell_type": "code",
   "execution_count": 5,
   "metadata": {},
   "outputs": [
    {
     "name": "stderr",
     "output_type": "stream",
     "text": [
      "Grabbing bearer token from OAUTH\n"
     ]
    }
   ],
   "source": [
    "# Decided to use twitters searchtweets api \n",
    "# setting my search arguements using the premium search feature\n",
    "premium_search_args = searchtweets.load_credentials(\".twitter_keys.yaml\",\n",
    "                                       yaml_key=\"search_tweets_api\",\n",
    "                                       env_overwrite=False)"
   ]
  },
  {
   "cell_type": "code",
   "execution_count": 25,
   "metadata": {},
   "outputs": [
    {
     "name": "stderr",
     "output_type": "stream",
     "text": [
      "Grabbing bearer token from OAUTH\n"
     ]
    }
   ],
   "source": [
    "premium_search_args_femi = searchtweets.load_credentials(\".twitter_keys_femi.yaml\",\n",
    "                                       yaml_key=\"search_tweets_api\",\n",
    "                                       env_overwrite=False)"
   ]
  },
  {
   "cell_type": "code",
   "execution_count": 26,
   "metadata": {},
   "outputs": [],
   "source": [
    "def retrieve_tweets(keyword=\"buhari\", no_results=100, from_date=\"\", to_date=\"\", \n",
    "                    premium_search_args=premium_search_args_femi):\n",
    "    \"\"\"\n",
    "    Get tweets matching a certain keyword during a certain date range and return them as a list.\n",
    "    \"\"\"\n",
    "    rule = searchtweets.gen_rule_payload(keyword,\n",
    "                        from_date=from_date,\n",
    "                        to_date=to_date,\n",
    "                        results_per_call=no_results)\n",
    "    rs = searchtweets.ResultStream(rule_payload=rule,\n",
    "                  max_results=no_results,\n",
    "                  max_pages=no_results,\n",
    "                  **premium_search_args)\n",
    "    tweets = list(rs.stream())\n",
    "    return tweets"
   ]
  },
  {
   "cell_type": "code",
   "execution_count": 27,
   "metadata": {},
   "outputs": [],
   "source": [
    "def create_tweets_df(dates_list, keyword=\"buhari\", from_date=\"\", to_date=\"\", no_results=100):\n",
    "    \"Create a dataframe from the tweets covering the dates in the dates_list\"\n",
    "    tweets = []\n",
    "    for date in dates_list:\n",
    "        tweets += [*retrieve_tweets(keyword, no_results, from_date=date+\" 15:00\", to_date=date+\" 16:00\")]\n",
    "    tweets_df = pd.DataFrame(tweets)\n",
    "    tweets_df.dropna(subset=['text'], inplace=True)\n",
    "    tweets_df.created_at = pd.to_datetime(tweets_df.created_at)\n",
    "    tweets_df['created_date'] = tweets_df.created_at.apply(lambda x : x.strftime(\"%b %Y\"))\n",
    "    tweets_df.sort_values(by='created_at', inplace=True)\n",
    "    tweets_df['text_shortened'] = tweets_df.text.apply(lambda x: x[:25].lower())\n",
    "    tweets_df.drop_duplicates(subset=['text_shortened', 'created_date'], inplace=True)\n",
    "    tweets_df.drop(labels=['text_shortened'], axis=1, inplace=True)\n",
    "    return tweets_df"
   ]
  },
  {
   "cell_type": "markdown",
   "metadata": {},
   "source": [
    "<br>"
   ]
  },
  {
   "cell_type": "markdown",
   "metadata": {},
   "source": [
    "<br>"
   ]
  },
  {
   "cell_type": "code",
   "execution_count": 12,
   "metadata": {},
   "outputs": [
    {
     "data": {
      "text/plain": [
       "(2786, 37)"
      ]
     },
     "execution_count": 12,
     "metadata": {},
     "output_type": "execute_result"
    }
   ],
   "source": [
    "tweets_df = pd.read_csv(\"./data/buhari_tweets.csv\")\n",
    "tweets_df.shape"
   ]
  },
  {
   "cell_type": "code",
   "execution_count": null,
   "metadata": {
    "scrolled": false
   },
   "outputs": [],
   "source": [
    "# tweets_df.user = tweets_df.user.apply(lambda x: ast.literal_eval(x))\n",
    "# tweets_df['username'] = tweets_df.user.apply(lambda x: x['name'])\n",
    "# tweets_df['user_location'] = tweets_df.user.apply(lambda x: x['location'])"
   ]
  },
  {
   "cell_type": "code",
   "execution_count": 64,
   "metadata": {},
   "outputs": [
    {
     "data": {
      "text/plain": [
       "(759, 37)"
      ]
     },
     "execution_count": 64,
     "metadata": {},
     "output_type": "execute_result"
    }
   ],
   "source": [
    "dates_list = [\"2017-01-05\", \"2016-01-05\",\n",
    "              \"2018-03-05\", \"2017-03-05\", \"2016-03-05\",\n",
    "              \"2017-06-05\", \"2016-06-05\",\n",
    "              \"2017-09-05\", \"2016-09-05\",\n",
    "              \"2017-11-05\", \"2016-11-05\", \"2015-11-05\"]\n",
    "\n",
    "new_tweets = create_tweets_df(dates_list)\n",
    "new_tweets.shape"
   ]
  },
  {
   "cell_type": "code",
   "execution_count": 65,
   "metadata": {},
   "outputs": [
    {
     "name": "stderr",
     "output_type": "stream",
     "text": [
      "/anaconda3/envs/nlp/lib/python3.6/site-packages/ipykernel/__main__.py:1: FutureWarning: Sorting because non-concatenation axis is not aligned. A future version\n",
      "of pandas will change to not sort by default.\n",
      "\n",
      "To accept the future behavior, pass 'sort=False'.\n",
      "\n",
      "To retain the current behavior and silence the warning, pass 'sort=True'.\n",
      "\n",
      "  if __name__ == '__main__':\n"
     ]
    }
   ],
   "source": [
    "tweets_df = pd.concat([tweets_df, new_tweets])\n",
    "tweets_df.reset_index(drop=True, inplace=True)"
   ]
  },
  {
   "cell_type": "code",
   "execution_count": 66,
   "metadata": {},
   "outputs": [
    {
     "data": {
      "text/plain": [
       "(6002, 37)"
      ]
     },
     "execution_count": 66,
     "metadata": {},
     "output_type": "execute_result"
    }
   ],
   "source": [
    "tweets_df.shape"
   ]
  },
  {
   "cell_type": "code",
   "execution_count": 67,
   "metadata": {},
   "outputs": [],
   "source": [
    "tweets_df.to_csv(\"./data/buhari_tweets.csv\", index=False)"
   ]
  },
  {
   "cell_type": "code",
   "execution_count": 68,
   "metadata": {},
   "outputs": [],
   "source": [
    "tweets_df_2 = tweets_df[['created_at', 'created_date', 'text', 'user']]"
   ]
  },
  {
   "cell_type": "code",
   "execution_count": 69,
   "metadata": {},
   "outputs": [
    {
     "data": {
      "text/html": [
       "<div>\n",
       "<style scoped>\n",
       "    .dataframe tbody tr th:only-of-type {\n",
       "        vertical-align: middle;\n",
       "    }\n",
       "\n",
       "    .dataframe tbody tr th {\n",
       "        vertical-align: top;\n",
       "    }\n",
       "\n",
       "    .dataframe thead th {\n",
       "        text-align: right;\n",
       "    }\n",
       "</style>\n",
       "<table border=\"1\" class=\"dataframe\">\n",
       "  <thead>\n",
       "    <tr style=\"text-align: right;\">\n",
       "      <th></th>\n",
       "      <th>created_at</th>\n",
       "      <th>created_date</th>\n",
       "      <th>text</th>\n",
       "      <th>user</th>\n",
       "    </tr>\n",
       "  </thead>\n",
       "  <tbody>\n",
       "    <tr>\n",
       "      <th>5992</th>\n",
       "      <td>2018-03-05 15:59:35</td>\n",
       "      <td>Mar 2018</td>\n",
       "      <td>GEN. BUHARI (rtd.) SPEAKS ON FUEL SUBSIDY REMO...</td>\n",
       "      <td>{'id': 58883208, 'id_str': '58883208', 'name':...</td>\n",
       "    </tr>\n",
       "    <tr>\n",
       "      <th>5993</th>\n",
       "      <td>2018-03-05 15:59:43</td>\n",
       "      <td>Mar 2018</td>\n",
       "      <td>RT @TheOsasuShow: BREAKING: After much pressur...</td>\n",
       "      <td>{'id': 947072341275762688, 'id_str': '94707234...</td>\n",
       "    </tr>\n",
       "    <tr>\n",
       "      <th>5994</th>\n",
       "      <td>2018-03-05 15:59:44</td>\n",
       "      <td>Mar 2018</td>\n",
       "      <td>RT @jacksonpbn: Buhari is a useless President....</td>\n",
       "      <td>{'id': 2336569835, 'id_str': '2336569835', 'na...</td>\n",
       "    </tr>\n",
       "    <tr>\n",
       "      <th>5995</th>\n",
       "      <td>2018-03-05 15:59:44</td>\n",
       "      <td>Mar 2018</td>\n",
       "      <td>Are we still on this matter, under Buhari will...</td>\n",
       "      <td>{'id': 151055829, 'id_str': '151055829', 'name...</td>\n",
       "    </tr>\n",
       "    <tr>\n",
       "      <th>5996</th>\n",
       "      <td>2018-03-05 15:59:51</td>\n",
       "      <td>Mar 2018</td>\n",
       "      <td>RT @timehinlekan: The best political calculati...</td>\n",
       "      <td>{'id': 234064106, 'id_str': '234064106', 'name...</td>\n",
       "    </tr>\n",
       "    <tr>\n",
       "      <th>5997</th>\n",
       "      <td>2018-03-05 15:59:53</td>\n",
       "      <td>Mar 2018</td>\n",
       "      <td>RT @AnthonyEhilebo: I heard you people have no...</td>\n",
       "      <td>{'id': 3302993783, 'id_str': '3302993783', 'na...</td>\n",
       "    </tr>\n",
       "    <tr>\n",
       "      <th>5998</th>\n",
       "      <td>2018-03-05 15:59:56</td>\n",
       "      <td>Mar 2018</td>\n",
       "      <td>RT @MobilePunch: #Punchnewspapers #Opinion\\n  ...</td>\n",
       "      <td>{'id': 1506814836, 'id_str': '1506814836', 'na...</td>\n",
       "    </tr>\n",
       "    <tr>\n",
       "      <th>5999</th>\n",
       "      <td>2018-03-05 15:59:57</td>\n",
       "      <td>Mar 2018</td>\n",
       "      <td>RT @Asiwaju_limited: Retweet for puff puff lik...</td>\n",
       "      <td>{'id': 86312012, 'id_str': '86312012', 'name':...</td>\n",
       "    </tr>\n",
       "    <tr>\n",
       "      <th>6000</th>\n",
       "      <td>2018-03-05 15:59:57</td>\n",
       "      <td>Mar 2018</td>\n",
       "      <td>Buhari Set To Visit Benue Taraba, Zamfara And ...</td>\n",
       "      <td>{'id': 4853245847, 'id_str': '4853245847', 'na...</td>\n",
       "    </tr>\n",
       "    <tr>\n",
       "      <th>6001</th>\n",
       "      <td>2018-03-05 15:59:59</td>\n",
       "      <td>Mar 2018</td>\n",
       "      <td>CybokNews Now: (Buhari meets Liberian Presiden...</td>\n",
       "      <td>{'id': 2990841970, 'id_str': '2990841970', 'na...</td>\n",
       "    </tr>\n",
       "  </tbody>\n",
       "</table>\n",
       "</div>"
      ],
      "text/plain": [
       "               created_at created_date  \\\n",
       "5992  2018-03-05 15:59:35     Mar 2018   \n",
       "5993  2018-03-05 15:59:43     Mar 2018   \n",
       "5994  2018-03-05 15:59:44     Mar 2018   \n",
       "5995  2018-03-05 15:59:44     Mar 2018   \n",
       "5996  2018-03-05 15:59:51     Mar 2018   \n",
       "5997  2018-03-05 15:59:53     Mar 2018   \n",
       "5998  2018-03-05 15:59:56     Mar 2018   \n",
       "5999  2018-03-05 15:59:57     Mar 2018   \n",
       "6000  2018-03-05 15:59:57     Mar 2018   \n",
       "6001  2018-03-05 15:59:59     Mar 2018   \n",
       "\n",
       "                                                   text  \\\n",
       "5992  GEN. BUHARI (rtd.) SPEAKS ON FUEL SUBSIDY REMO...   \n",
       "5993  RT @TheOsasuShow: BREAKING: After much pressur...   \n",
       "5994  RT @jacksonpbn: Buhari is a useless President....   \n",
       "5995  Are we still on this matter, under Buhari will...   \n",
       "5996  RT @timehinlekan: The best political calculati...   \n",
       "5997  RT @AnthonyEhilebo: I heard you people have no...   \n",
       "5998  RT @MobilePunch: #Punchnewspapers #Opinion\\n  ...   \n",
       "5999  RT @Asiwaju_limited: Retweet for puff puff lik...   \n",
       "6000  Buhari Set To Visit Benue Taraba, Zamfara And ...   \n",
       "6001  CybokNews Now: (Buhari meets Liberian Presiden...   \n",
       "\n",
       "                                                   user  \n",
       "5992  {'id': 58883208, 'id_str': '58883208', 'name':...  \n",
       "5993  {'id': 947072341275762688, 'id_str': '94707234...  \n",
       "5994  {'id': 2336569835, 'id_str': '2336569835', 'na...  \n",
       "5995  {'id': 151055829, 'id_str': '151055829', 'name...  \n",
       "5996  {'id': 234064106, 'id_str': '234064106', 'name...  \n",
       "5997  {'id': 3302993783, 'id_str': '3302993783', 'na...  \n",
       "5998  {'id': 1506814836, 'id_str': '1506814836', 'na...  \n",
       "5999  {'id': 86312012, 'id_str': '86312012', 'name':...  \n",
       "6000  {'id': 4853245847, 'id_str': '4853245847', 'na...  \n",
       "6001  {'id': 2990841970, 'id_str': '2990841970', 'na...  "
      ]
     },
     "execution_count": 69,
     "metadata": {},
     "output_type": "execute_result"
    }
   ],
   "source": [
    "tweets_df_2.tail(10)"
   ]
  },
  {
   "cell_type": "code",
   "execution_count": 70,
   "metadata": {},
   "outputs": [],
   "source": [
    "by_date = tweets_df_2.groupby(by='created_date').count()"
   ]
  },
  {
   "cell_type": "code",
   "execution_count": 71,
   "metadata": {
    "scrolled": false
   },
   "outputs": [
    {
     "data": {
      "text/html": [
       "<div>\n",
       "<style scoped>\n",
       "    .dataframe tbody tr th:only-of-type {\n",
       "        vertical-align: middle;\n",
       "    }\n",
       "\n",
       "    .dataframe tbody tr th {\n",
       "        vertical-align: top;\n",
       "    }\n",
       "\n",
       "    .dataframe thead th {\n",
       "        text-align: right;\n",
       "    }\n",
       "</style>\n",
       "<table border=\"1\" class=\"dataframe\">\n",
       "  <thead>\n",
       "    <tr style=\"text-align: right;\">\n",
       "      <th></th>\n",
       "      <th>created_at</th>\n",
       "      <th>text</th>\n",
       "      <th>user</th>\n",
       "    </tr>\n",
       "    <tr>\n",
       "      <th>created_date</th>\n",
       "      <th></th>\n",
       "      <th></th>\n",
       "      <th></th>\n",
       "    </tr>\n",
       "  </thead>\n",
       "  <tbody>\n",
       "    <tr>\n",
       "      <th>Apr 2015</th>\n",
       "      <td>56</td>\n",
       "      <td>56</td>\n",
       "      <td>56</td>\n",
       "    </tr>\n",
       "    <tr>\n",
       "      <th>Apr 2016</th>\n",
       "      <td>41</td>\n",
       "      <td>41</td>\n",
       "      <td>41</td>\n",
       "    </tr>\n",
       "    <tr>\n",
       "      <th>Apr 2017</th>\n",
       "      <td>46</td>\n",
       "      <td>46</td>\n",
       "      <td>46</td>\n",
       "    </tr>\n",
       "    <tr>\n",
       "      <th>Aug 2015</th>\n",
       "      <td>42</td>\n",
       "      <td>42</td>\n",
       "      <td>42</td>\n",
       "    </tr>\n",
       "    <tr>\n",
       "      <th>Aug 2016</th>\n",
       "      <td>55</td>\n",
       "      <td>55</td>\n",
       "      <td>55</td>\n",
       "    </tr>\n",
       "    <tr>\n",
       "      <th>Aug 2017</th>\n",
       "      <td>42</td>\n",
       "      <td>42</td>\n",
       "      <td>42</td>\n",
       "    </tr>\n",
       "    <tr>\n",
       "      <th>Aug 2018</th>\n",
       "      <td>82</td>\n",
       "      <td>82</td>\n",
       "      <td>82</td>\n",
       "    </tr>\n",
       "    <tr>\n",
       "      <th>Feb 2015</th>\n",
       "      <td>60</td>\n",
       "      <td>60</td>\n",
       "      <td>60</td>\n",
       "    </tr>\n",
       "    <tr>\n",
       "      <th>Feb 2016</th>\n",
       "      <td>38</td>\n",
       "      <td>38</td>\n",
       "      <td>38</td>\n",
       "    </tr>\n",
       "    <tr>\n",
       "      <th>Feb 2017</th>\n",
       "      <td>52</td>\n",
       "      <td>52</td>\n",
       "      <td>52</td>\n",
       "    </tr>\n",
       "    <tr>\n",
       "      <th>Jan 2015</th>\n",
       "      <td>181</td>\n",
       "      <td>181</td>\n",
       "      <td>181</td>\n",
       "    </tr>\n",
       "    <tr>\n",
       "      <th>Jan 2016</th>\n",
       "      <td>289</td>\n",
       "      <td>289</td>\n",
       "      <td>289</td>\n",
       "    </tr>\n",
       "    <tr>\n",
       "      <th>Jan 2017</th>\n",
       "      <td>270</td>\n",
       "      <td>270</td>\n",
       "      <td>270</td>\n",
       "    </tr>\n",
       "    <tr>\n",
       "      <th>Jan 2018</th>\n",
       "      <td>212</td>\n",
       "      <td>212</td>\n",
       "      <td>212</td>\n",
       "    </tr>\n",
       "    <tr>\n",
       "      <th>Jul 2015</th>\n",
       "      <td>46</td>\n",
       "      <td>46</td>\n",
       "      <td>46</td>\n",
       "    </tr>\n",
       "    <tr>\n",
       "      <th>Jul 2016</th>\n",
       "      <td>20</td>\n",
       "      <td>20</td>\n",
       "      <td>20</td>\n",
       "    </tr>\n",
       "    <tr>\n",
       "      <th>Jul 2017</th>\n",
       "      <td>61</td>\n",
       "      <td>61</td>\n",
       "      <td>60</td>\n",
       "    </tr>\n",
       "    <tr>\n",
       "      <th>Jul 2018</th>\n",
       "      <td>60</td>\n",
       "      <td>60</td>\n",
       "      <td>60</td>\n",
       "    </tr>\n",
       "    <tr>\n",
       "      <th>Jun 2015</th>\n",
       "      <td>218</td>\n",
       "      <td>218</td>\n",
       "      <td>218</td>\n",
       "    </tr>\n",
       "    <tr>\n",
       "      <th>Jun 2016</th>\n",
       "      <td>303</td>\n",
       "      <td>303</td>\n",
       "      <td>303</td>\n",
       "    </tr>\n",
       "    <tr>\n",
       "      <th>Jun 2017</th>\n",
       "      <td>290</td>\n",
       "      <td>290</td>\n",
       "      <td>290</td>\n",
       "    </tr>\n",
       "    <tr>\n",
       "      <th>Jun 2018</th>\n",
       "      <td>302</td>\n",
       "      <td>302</td>\n",
       "      <td>302</td>\n",
       "    </tr>\n",
       "    <tr>\n",
       "      <th>Mar 2015</th>\n",
       "      <td>63</td>\n",
       "      <td>63</td>\n",
       "      <td>63</td>\n",
       "    </tr>\n",
       "    <tr>\n",
       "      <th>Mar 2016</th>\n",
       "      <td>271</td>\n",
       "      <td>271</td>\n",
       "      <td>271</td>\n",
       "    </tr>\n",
       "    <tr>\n",
       "      <th>Mar 2017</th>\n",
       "      <td>256</td>\n",
       "      <td>256</td>\n",
       "      <td>256</td>\n",
       "    </tr>\n",
       "    <tr>\n",
       "      <th>Mar 2018</th>\n",
       "      <td>299</td>\n",
       "      <td>299</td>\n",
       "      <td>299</td>\n",
       "    </tr>\n",
       "    <tr>\n",
       "      <th>May 2015</th>\n",
       "      <td>59</td>\n",
       "      <td>59</td>\n",
       "      <td>59</td>\n",
       "    </tr>\n",
       "    <tr>\n",
       "      <th>May 2016</th>\n",
       "      <td>47</td>\n",
       "      <td>47</td>\n",
       "      <td>47</td>\n",
       "    </tr>\n",
       "    <tr>\n",
       "      <th>May 2017</th>\n",
       "      <td>66</td>\n",
       "      <td>66</td>\n",
       "      <td>66</td>\n",
       "    </tr>\n",
       "    <tr>\n",
       "      <th>Nov 2015</th>\n",
       "      <td>161</td>\n",
       "      <td>161</td>\n",
       "      <td>161</td>\n",
       "    </tr>\n",
       "    <tr>\n",
       "      <th>Nov 2016</th>\n",
       "      <td>250</td>\n",
       "      <td>250</td>\n",
       "      <td>250</td>\n",
       "    </tr>\n",
       "    <tr>\n",
       "      <th>Nov 2017</th>\n",
       "      <td>234</td>\n",
       "      <td>234</td>\n",
       "      <td>234</td>\n",
       "    </tr>\n",
       "    <tr>\n",
       "      <th>Nov 2018</th>\n",
       "      <td>152</td>\n",
       "      <td>152</td>\n",
       "      <td>152</td>\n",
       "    </tr>\n",
       "    <tr>\n",
       "      <th>Oct 2015</th>\n",
       "      <td>36</td>\n",
       "      <td>36</td>\n",
       "      <td>35</td>\n",
       "    </tr>\n",
       "    <tr>\n",
       "      <th>Oct 2016</th>\n",
       "      <td>35</td>\n",
       "      <td>35</td>\n",
       "      <td>35</td>\n",
       "    </tr>\n",
       "    <tr>\n",
       "      <th>Oct 2017</th>\n",
       "      <td>53</td>\n",
       "      <td>53</td>\n",
       "      <td>53</td>\n",
       "    </tr>\n",
       "    <tr>\n",
       "      <th>Sep 2015</th>\n",
       "      <td>275</td>\n",
       "      <td>275</td>\n",
       "      <td>275</td>\n",
       "    </tr>\n",
       "    <tr>\n",
       "      <th>Sep 2016</th>\n",
       "      <td>333</td>\n",
       "      <td>333</td>\n",
       "      <td>333</td>\n",
       "    </tr>\n",
       "    <tr>\n",
       "      <th>Sep 2017</th>\n",
       "      <td>351</td>\n",
       "      <td>351</td>\n",
       "      <td>351</td>\n",
       "    </tr>\n",
       "    <tr>\n",
       "      <th>Sep 2018</th>\n",
       "      <td>295</td>\n",
       "      <td>295</td>\n",
       "      <td>295</td>\n",
       "    </tr>\n",
       "  </tbody>\n",
       "</table>\n",
       "</div>"
      ],
      "text/plain": [
       "              created_at  text  user\n",
       "created_date                        \n",
       "Apr 2015              56    56    56\n",
       "Apr 2016              41    41    41\n",
       "Apr 2017              46    46    46\n",
       "Aug 2015              42    42    42\n",
       "Aug 2016              55    55    55\n",
       "Aug 2017              42    42    42\n",
       "Aug 2018              82    82    82\n",
       "Feb 2015              60    60    60\n",
       "Feb 2016              38    38    38\n",
       "Feb 2017              52    52    52\n",
       "Jan 2015             181   181   181\n",
       "Jan 2016             289   289   289\n",
       "Jan 2017             270   270   270\n",
       "Jan 2018             212   212   212\n",
       "Jul 2015              46    46    46\n",
       "Jul 2016              20    20    20\n",
       "Jul 2017              61    61    60\n",
       "Jul 2018              60    60    60\n",
       "Jun 2015             218   218   218\n",
       "Jun 2016             303   303   303\n",
       "Jun 2017             290   290   290\n",
       "Jun 2018             302   302   302\n",
       "Mar 2015              63    63    63\n",
       "Mar 2016             271   271   271\n",
       "Mar 2017             256   256   256\n",
       "Mar 2018             299   299   299\n",
       "May 2015              59    59    59\n",
       "May 2016              47    47    47\n",
       "May 2017              66    66    66\n",
       "Nov 2015             161   161   161\n",
       "Nov 2016             250   250   250\n",
       "Nov 2017             234   234   234\n",
       "Nov 2018             152   152   152\n",
       "Oct 2015              36    36    35\n",
       "Oct 2016              35    35    35\n",
       "Oct 2017              53    53    53\n",
       "Sep 2015             275   275   275\n",
       "Sep 2016             333   333   333\n",
       "Sep 2017             351   351   351\n",
       "Sep 2018             295   295   295"
      ]
     },
     "execution_count": 71,
     "metadata": {},
     "output_type": "execute_result"
    }
   ],
   "source": [
    "by_date"
   ]
  },
  {
   "cell_type": "code",
   "execution_count": 72,
   "metadata": {},
   "outputs": [],
   "source": [
    "tweets_df_2.to_csv(\"./data/buhari_tweets_short.csv\", index=False)"
   ]
  },
  {
   "cell_type": "code",
   "execution_count": 74,
   "metadata": {},
   "outputs": [
    {
     "data": {
      "text/html": [
       "<div>\n",
       "<style scoped>\n",
       "    .dataframe tbody tr th:only-of-type {\n",
       "        vertical-align: middle;\n",
       "    }\n",
       "\n",
       "    .dataframe tbody tr th {\n",
       "        vertical-align: top;\n",
       "    }\n",
       "\n",
       "    .dataframe thead th {\n",
       "        text-align: right;\n",
       "    }\n",
       "</style>\n",
       "<table border=\"1\" class=\"dataframe\">\n",
       "  <thead>\n",
       "    <tr style=\"text-align: right;\">\n",
       "      <th></th>\n",
       "      <th>created_at</th>\n",
       "      <th>created_date</th>\n",
       "      <th>text</th>\n",
       "      <th>user</th>\n",
       "    </tr>\n",
       "  </thead>\n",
       "  <tbody>\n",
       "    <tr>\n",
       "      <th>0</th>\n",
       "      <td>2015-04-30 16:54:00</td>\n",
       "      <td>Apr 2015</td>\n",
       "      <td>RT @countfreemont: Before elections: I will st...</td>\n",
       "      <td>{'id': 38511618, 'id_str': '38511618', 'name':...</td>\n",
       "    </tr>\n",
       "    <tr>\n",
       "      <th>1</th>\n",
       "      <td>2015-04-30 16:55:00</td>\n",
       "      <td>Apr 2015</td>\n",
       "      <td>If Buhari Makes N1Naira Equal to 1Dollar, I’ll...</td>\n",
       "      <td>{'id': 2272812642, 'id_str': '2272812642', 'na...</td>\n",
       "    </tr>\n",
       "    <tr>\n",
       "      <th>2</th>\n",
       "      <td>2015-04-30 16:55:00</td>\n",
       "      <td>Apr 2015</td>\n",
       "      <td>Charly Boy Vows To Ride Bike From Nigeria To C...</td>\n",
       "      <td>{'id': 3078228369, 'id_str': '3078228369', 'na...</td>\n",
       "    </tr>\n",
       "    <tr>\n",
       "      <th>3</th>\n",
       "      <td>2015-04-30 16:55:00</td>\n",
       "      <td>Apr 2015</td>\n",
       "      <td>@RadioPaparazi.paparazi radio buhari i dey fee...</td>\n",
       "      <td>{'id': 3081268377, 'id_str': '3081268377', 'na...</td>\n",
       "    </tr>\n",
       "    <tr>\n",
       "      <th>4</th>\n",
       "      <td>2015-04-30 16:56:00</td>\n",
       "      <td>Apr 2015</td>\n",
       "      <td>Decline in revenues due to fall in oil prices ...</td>\n",
       "      <td>{'id': 2724933587, 'id_str': '2724933587', 'na...</td>\n",
       "    </tr>\n",
       "  </tbody>\n",
       "</table>\n",
       "</div>"
      ],
      "text/plain": [
       "            created_at created_date  \\\n",
       "0  2015-04-30 16:54:00     Apr 2015   \n",
       "1  2015-04-30 16:55:00     Apr 2015   \n",
       "2  2015-04-30 16:55:00     Apr 2015   \n",
       "3  2015-04-30 16:55:00     Apr 2015   \n",
       "4  2015-04-30 16:56:00     Apr 2015   \n",
       "\n",
       "                                                text  \\\n",
       "0  RT @countfreemont: Before elections: I will st...   \n",
       "1  If Buhari Makes N1Naira Equal to 1Dollar, I’ll...   \n",
       "2  Charly Boy Vows To Ride Bike From Nigeria To C...   \n",
       "3  @RadioPaparazi.paparazi radio buhari i dey fee...   \n",
       "4  Decline in revenues due to fall in oil prices ...   \n",
       "\n",
       "                                                user  \n",
       "0  {'id': 38511618, 'id_str': '38511618', 'name':...  \n",
       "1  {'id': 2272812642, 'id_str': '2272812642', 'na...  \n",
       "2  {'id': 3078228369, 'id_str': '3078228369', 'na...  \n",
       "3  {'id': 3081268377, 'id_str': '3081268377', 'na...  \n",
       "4  {'id': 2724933587, 'id_str': '2724933587', 'na...  "
      ]
     },
     "execution_count": 74,
     "metadata": {},
     "output_type": "execute_result"
    }
   ],
   "source": [
    "tweets_df_2.head()"
   ]
  },
  {
   "cell_type": "code",
   "execution_count": 219,
   "metadata": {},
   "outputs": [],
   "source": [
    "def delete_duplicates(df, str_len=25):\n",
    "    df['text_shortened'] = df.text.apply(lambda x: x[:str_len].lower())\n",
    "    df.drop_duplicates(subset=['text_shortened', 'created_date'], inplace=True)\n",
    "    df.drop(labels=['text_shortened'], axis=1, inplace=True)\n",
    "    return df\n",
    "\n",
    "def preprocess_tweet(tweet):\n",
    "    #Preprocess the text in a single tweet\n",
    "    #arguments: tweet = a single tweet in form of string \n",
    "    #convert the tweet to lower case\n",
    "    tweet.lower()\n",
    "    #convert all urls to sting \"URL\"\n",
    "    tweet = re.sub('((www\\.[^\\s]+)|(https?://[^\\s]+))','URL',tweet)\n",
    "    #convert all @username to \"AT_USER\"\n",
    "    tweet = re.sub('@[^\\s]+','AT_USER', tweet)\n",
    "    #correct all multiple white spaces to a single white space\n",
    "    tweet = re.sub('[\\s]+', ' ', tweet)\n",
    "    #convert \"#topic\" to just \"topic\"\n",
    "    tweet = re.sub(r'#([^\\s]+)', r'\\1', tweet)\n",
    "    #convert RT to whote space\n",
    "    tweet = re.sub(r'RT', '', tweet)\n",
    "    return tweet.strip()"
   ]
  },
  {
   "cell_type": "code",
   "execution_count": 220,
   "metadata": {},
   "outputs": [
    {
     "data": {
      "text/html": [
       "<div>\n",
       "<style scoped>\n",
       "    .dataframe tbody tr th:only-of-type {\n",
       "        vertical-align: middle;\n",
       "    }\n",
       "\n",
       "    .dataframe tbody tr th {\n",
       "        vertical-align: top;\n",
       "    }\n",
       "\n",
       "    .dataframe thead th {\n",
       "        text-align: right;\n",
       "    }\n",
       "</style>\n",
       "<table border=\"1\" class=\"dataframe\">\n",
       "  <thead>\n",
       "    <tr style=\"text-align: right;\">\n",
       "      <th></th>\n",
       "      <th>created_at</th>\n",
       "      <th>created_date</th>\n",
       "      <th>text</th>\n",
       "      <th>user</th>\n",
       "    </tr>\n",
       "  </thead>\n",
       "  <tbody>\n",
       "    <tr>\n",
       "      <th>0</th>\n",
       "      <td>2015-04-30 16:54:00</td>\n",
       "      <td>Apr 2015</td>\n",
       "      <td>RT @countfreemont: Before elections: I will st...</td>\n",
       "      <td>{'id': 38511618, 'id_str': '38511618', 'name':...</td>\n",
       "    </tr>\n",
       "    <tr>\n",
       "      <th>1</th>\n",
       "      <td>2015-04-30 16:55:00</td>\n",
       "      <td>Apr 2015</td>\n",
       "      <td>If Buhari Makes N1Naira Equal to 1Dollar, I’ll...</td>\n",
       "      <td>{'id': 2272812642, 'id_str': '2272812642', 'na...</td>\n",
       "    </tr>\n",
       "    <tr>\n",
       "      <th>2</th>\n",
       "      <td>2015-04-30 16:55:00</td>\n",
       "      <td>Apr 2015</td>\n",
       "      <td>Charly Boy Vows To Ride Bike From Nigeria To C...</td>\n",
       "      <td>{'id': 3078228369, 'id_str': '3078228369', 'na...</td>\n",
       "    </tr>\n",
       "    <tr>\n",
       "      <th>3</th>\n",
       "      <td>2015-04-30 16:55:00</td>\n",
       "      <td>Apr 2015</td>\n",
       "      <td>@RadioPaparazi.paparazi radio buhari i dey fee...</td>\n",
       "      <td>{'id': 3081268377, 'id_str': '3081268377', 'na...</td>\n",
       "    </tr>\n",
       "    <tr>\n",
       "      <th>4</th>\n",
       "      <td>2015-04-30 16:56:00</td>\n",
       "      <td>Apr 2015</td>\n",
       "      <td>Decline in revenues due to fall in oil prices ...</td>\n",
       "      <td>{'id': 2724933587, 'id_str': '2724933587', 'na...</td>\n",
       "    </tr>\n",
       "  </tbody>\n",
       "</table>\n",
       "</div>"
      ],
      "text/plain": [
       "            created_at created_date  \\\n",
       "0  2015-04-30 16:54:00     Apr 2015   \n",
       "1  2015-04-30 16:55:00     Apr 2015   \n",
       "2  2015-04-30 16:55:00     Apr 2015   \n",
       "3  2015-04-30 16:55:00     Apr 2015   \n",
       "4  2015-04-30 16:56:00     Apr 2015   \n",
       "\n",
       "                                                text  \\\n",
       "0  RT @countfreemont: Before elections: I will st...   \n",
       "1  If Buhari Makes N1Naira Equal to 1Dollar, I’ll...   \n",
       "2  Charly Boy Vows To Ride Bike From Nigeria To C...   \n",
       "3  @RadioPaparazi.paparazi radio buhari i dey fee...   \n",
       "4  Decline in revenues due to fall in oil prices ...   \n",
       "\n",
       "                                                user  \n",
       "0  {'id': 38511618, 'id_str': '38511618', 'name':...  \n",
       "1  {'id': 2272812642, 'id_str': '2272812642', 'na...  \n",
       "2  {'id': 3078228369, 'id_str': '3078228369', 'na...  \n",
       "3  {'id': 3081268377, 'id_str': '3081268377', 'na...  \n",
       "4  {'id': 2724933587, 'id_str': '2724933587', 'na...  "
      ]
     },
     "execution_count": 220,
     "metadata": {},
     "output_type": "execute_result"
    }
   ],
   "source": [
    "tweets_df = pd.read_csv(\"./data/buhari_tweets_short.csv\")\n",
    "tweets_df.head()"
   ]
  },
  {
   "cell_type": "code",
   "execution_count": 221,
   "metadata": {
    "scrolled": true
   },
   "outputs": [
    {
     "name": "stderr",
     "output_type": "stream",
     "text": [
      "/anaconda3/lib/python3.6/site-packages/pandas/core/generic.py:4401: SettingWithCopyWarning: \n",
      "A value is trying to be set on a copy of a slice from a DataFrame.\n",
      "Try using .loc[row_indexer,col_indexer] = value instead\n",
      "\n",
      "See the caveats in the documentation: http://pandas.pydata.org/pandas-docs/stable/indexing.html#indexing-view-versus-copy\n",
      "  self[name] = value\n",
      "/anaconda3/lib/python3.6/site-packages/ipykernel/__main__.py:10: SettingWithCopyWarning: \n",
      "A value is trying to be set on a copy of a slice from a DataFrame\n",
      "\n",
      "See the caveats in the documentation: http://pandas.pydata.org/pandas-docs/stable/indexing.html#indexing-view-versus-copy\n",
      "/anaconda3/lib/python3.6/site-packages/ipykernel/__main__.py:2: SettingWithCopyWarning: \n",
      "A value is trying to be set on a copy of a slice from a DataFrame.\n",
      "Try using .loc[row_indexer,col_indexer] = value instead\n",
      "\n",
      "See the caveats in the documentation: http://pandas.pydata.org/pandas-docs/stable/indexing.html#indexing-view-versus-copy\n",
      "  from ipykernel import kernelapp as app\n",
      "/anaconda3/lib/python3.6/site-packages/ipykernel/__main__.py:3: SettingWithCopyWarning: \n",
      "A value is trying to be set on a copy of a slice from a DataFrame\n",
      "\n",
      "See the caveats in the documentation: http://pandas.pydata.org/pandas-docs/stable/indexing.html#indexing-view-versus-copy\n",
      "  app.launch_new_instance()\n",
      "/anaconda3/lib/python3.6/site-packages/pandas/core/frame.py:3694: SettingWithCopyWarning: \n",
      "A value is trying to be set on a copy of a slice from a DataFrame\n",
      "\n",
      "See the caveats in the documentation: http://pandas.pydata.org/pandas-docs/stable/indexing.html#indexing-view-versus-copy\n",
      "  errors=errors)\n"
     ]
    }
   ],
   "source": [
    "tweets_to_analyse = tweets_df[(tweets_df.created_date.str.contains(\"Jan\")) | \n",
    "                            (tweets_df.created_date.str.contains(\"Mar\")) |\n",
    "                            (tweets_df.created_date.str.contains(\"Jun\")) |\n",
    "                            (tweets_df.created_date.str.contains(\"Sep\")) |\n",
    "                            (tweets_df.created_date.str.contains(\"Nov\")) &\n",
    "                            (tweets_df.created_date != 'Jan 2015') &\n",
    "                            (tweets_df.created_date != 'Mar 2015')]\n",
    "\n",
    "tweets_to_analyse.created_at = pd.to_datetime(tweets_to_analyse.created_at)\n",
    "tweets_to_analyse.sort_values(by='created_at', inplace=True)\n",
    "tweets_to_analyse = delete_duplicates(tweets_to_analyse)\n",
    "tweets_to_analyse.reset_index(inplace=True, drop=True)\n",
    "tweets_to_analyse.text = tweets_to_analyse.text.apply(preprocess_tweet)"
   ]
  },
  {
   "cell_type": "code",
   "execution_count": 222,
   "metadata": {},
   "outputs": [
    {
     "data": {
      "text/plain": [
       "array(['Jan 2015', 'Mar 2015', 'Jun 2015', 'Sep 2015', 'Nov 2015',\n",
       "       'Jan 2016', 'Mar 2016', 'Jun 2016', 'Sep 2016', 'Nov 2016',\n",
       "       'Jan 2017', 'Mar 2017', 'Jun 2017', 'Sep 2017', 'Nov 2017',\n",
       "       'Jan 2018', 'Mar 2018', 'Jun 2018', 'Sep 2018', 'Nov 2018'],\n",
       "      dtype=object)"
      ]
     },
     "execution_count": 222,
     "metadata": {},
     "output_type": "execute_result"
    }
   ],
   "source": [
    "tweets_to_analyse.created_date.unique()"
   ]
  },
  {
   "cell_type": "code",
   "execution_count": 223,
   "metadata": {},
   "outputs": [
    {
     "data": {
      "text/plain": [
       "(3612, 4)"
      ]
     },
     "execution_count": 223,
     "metadata": {},
     "output_type": "execute_result"
    }
   ],
   "source": [
    "tweets_to_analyse.shape"
   ]
  },
  {
   "cell_type": "code",
   "execution_count": 224,
   "metadata": {},
   "outputs": [
    {
     "data": {
      "text/html": [
       "<div>\n",
       "<style scoped>\n",
       "    .dataframe tbody tr th:only-of-type {\n",
       "        vertical-align: middle;\n",
       "    }\n",
       "\n",
       "    .dataframe tbody tr th {\n",
       "        vertical-align: top;\n",
       "    }\n",
       "\n",
       "    .dataframe thead th {\n",
       "        text-align: right;\n",
       "    }\n",
       "</style>\n",
       "<table border=\"1\" class=\"dataframe\">\n",
       "  <thead>\n",
       "    <tr style=\"text-align: right;\">\n",
       "      <th></th>\n",
       "      <th>created_at</th>\n",
       "      <th>created_date</th>\n",
       "      <th>text</th>\n",
       "      <th>user</th>\n",
       "    </tr>\n",
       "  </thead>\n",
       "  <tbody>\n",
       "    <tr>\n",
       "      <th>0</th>\n",
       "      <td>2015-01-06 23:49:00</td>\n",
       "      <td>Jan 2015</td>\n",
       "      <td>‘I Am Not Yusuf Buhari’ – Man Whose Photo Has ...</td>\n",
       "      <td>{'id': 452244192, 'id_str': '452244192', 'name...</td>\n",
       "    </tr>\n",
       "    <tr>\n",
       "      <th>1</th>\n",
       "      <td>2015-01-06 23:49:00</td>\n",
       "      <td>Jan 2015</td>\n",
       "      <td>AT_USER God knows how much work i have done to...</td>\n",
       "      <td>{'id': 180585051, 'id_str': '180585051', 'name...</td>\n",
       "    </tr>\n",
       "    <tr>\n",
       "      <th>2</th>\n",
       "      <td>2015-01-06 23:49:00</td>\n",
       "      <td>Jan 2015</td>\n",
       "      <td>Nigeria: la lutte contre Boko Haram au cœur de...</td>\n",
       "      <td>{'id': 159917005, 'id_str': '159917005', 'name...</td>\n",
       "    </tr>\n",
       "    <tr>\n",
       "      <th>3</th>\n",
       "      <td>2015-01-06 23:49:00</td>\n",
       "      <td>Jan 2015</td>\n",
       "      <td>Metro UK Uses Wrong Picture In A Story As Pres...</td>\n",
       "      <td>{'id': 2981781262, 'id_str': '2981781262', 'na...</td>\n",
       "    </tr>\n",
       "    <tr>\n",
       "      <th>4</th>\n",
       "      <td>2015-01-06 23:50:00</td>\n",
       "      <td>Jan 2015</td>\n",
       "      <td>AT_USER InCaseYouMissThis: ‘I am not Yusuf Buh...</td>\n",
       "      <td>{'id': 2166499707, 'id_str': '2166499707', 'na...</td>\n",
       "    </tr>\n",
       "  </tbody>\n",
       "</table>\n",
       "</div>"
      ],
      "text/plain": [
       "           created_at created_date  \\\n",
       "0 2015-01-06 23:49:00     Jan 2015   \n",
       "1 2015-01-06 23:49:00     Jan 2015   \n",
       "2 2015-01-06 23:49:00     Jan 2015   \n",
       "3 2015-01-06 23:49:00     Jan 2015   \n",
       "4 2015-01-06 23:50:00     Jan 2015   \n",
       "\n",
       "                                                text  \\\n",
       "0  ‘I Am Not Yusuf Buhari’ – Man Whose Photo Has ...   \n",
       "1  AT_USER God knows how much work i have done to...   \n",
       "2  Nigeria: la lutte contre Boko Haram au cœur de...   \n",
       "3  Metro UK Uses Wrong Picture In A Story As Pres...   \n",
       "4  AT_USER InCaseYouMissThis: ‘I am not Yusuf Buh...   \n",
       "\n",
       "                                                user  \n",
       "0  {'id': 452244192, 'id_str': '452244192', 'name...  \n",
       "1  {'id': 180585051, 'id_str': '180585051', 'name...  \n",
       "2  {'id': 159917005, 'id_str': '159917005', 'name...  \n",
       "3  {'id': 2981781262, 'id_str': '2981781262', 'na...  \n",
       "4  {'id': 2166499707, 'id_str': '2166499707', 'na...  "
      ]
     },
     "execution_count": 224,
     "metadata": {},
     "output_type": "execute_result"
    }
   ],
   "source": [
    "tweets_to_analyse.head()"
   ]
  },
  {
   "cell_type": "markdown",
   "metadata": {},
   "source": [
    "### Train model on labelled twitter sentiment data\n",
    "Next steps:\n",
    "- Download Sentiment140 data\n",
    "- preprocess tweet data\n",
    "- Apply word embeddings to the text\n",
    "- apply fasttext text classification\n",
    "- Pickle model\n",
    "- Apply model to buhari tweets text"
   ]
  },
  {
   "cell_type": "code",
   "execution_count": 4,
   "metadata": {},
   "outputs": [],
   "source": [
    "def import_tweets(filename, header=None, encoding=\"ISO-8859-1\"):\n",
    "    #import data from csv file via pandas library\n",
    "    tweet_dataset = pd.read_csv(filename, encoding=encoding, header=header)\n",
    "    #the column names are based on sentiment140 dataset provided on kaggle\n",
    "    tweet_dataset.columns = ['sentiment','id','date','flag','user','text']\n",
    "    #delete 3 columns: flags,id,user, as they are not required for analysis\n",
    "    for i in ['flag','id','user','date']: del tweet_dataset[i] # or tweet_dataset = tweet_dataset.drop([\"id\",\"user\",\"date\",\"user\"], axis = 1)\n",
    "    #in sentiment140 dataset, positive = 4, negative = 0; So we change positive to 1\n",
    "    tweet_dataset.sentiment = tweet_dataset.sentiment.replace(4,1)\n",
    "    return tweet_dataset"
   ]
  },
  {
   "cell_type": "code",
   "execution_count": 8,
   "metadata": {},
   "outputs": [],
   "source": [
    "sentiment140 = import_tweets(\"./data/training.1600000.processed.noemoticon.csv\")\n",
    "sentiment140.text = sentiment140.text.apply(preprocess_tweet)"
   ]
  },
  {
   "cell_type": "code",
   "execution_count": 9,
   "metadata": {},
   "outputs": [
    {
     "data": {
      "text/plain": [
       "1    800000\n",
       "0    800000\n",
       "Name: sentiment, dtype: int64"
      ]
     },
     "execution_count": 9,
     "metadata": {},
     "output_type": "execute_result"
    }
   ],
   "source": [
    "sentiment140.sentiment.value_counts()"
   ]
  },
  {
   "cell_type": "code",
   "execution_count": 10,
   "metadata": {},
   "outputs": [
    {
     "data": {
      "text/plain": [
       "1600000"
      ]
     },
     "execution_count": 10,
     "metadata": {},
     "output_type": "execute_result"
    }
   ],
   "source": [
    "len(sentiment140)"
   ]
  },
  {
   "cell_type": "code",
   "execution_count": 46,
   "metadata": {},
   "outputs": [],
   "source": [
    "import fastText as ft\n",
    "from sklearn.model_selection import train_test_split\n",
    "import numpy as np"
   ]
  },
  {
   "cell_type": "code",
   "execution_count": 312,
   "metadata": {},
   "outputs": [],
   "source": [
    "train, test = train_test_split(sentiment140[['text', 'sentiment']],test_size=0.2, random_state=21, \n",
    "                              stratify=sentiment140.sentiment) "
   ]
  },
  {
   "cell_type": "code",
   "execution_count": 313,
   "metadata": {},
   "outputs": [
    {
     "data": {
      "text/plain": [
       "1    640000\n",
       "0    640000\n",
       "Name: sentiment, dtype: int64"
      ]
     },
     "execution_count": 313,
     "metadata": {},
     "output_type": "execute_result"
    }
   ],
   "source": [
    "train.sentiment.value_counts()"
   ]
  },
  {
   "cell_type": "code",
   "execution_count": 314,
   "metadata": {},
   "outputs": [
    {
     "data": {
      "text/plain": [
       "1    160000\n",
       "0    160000\n",
       "Name: sentiment, dtype: int64"
      ]
     },
     "execution_count": 314,
     "metadata": {},
     "output_type": "execute_result"
    }
   ],
   "source": [
    "test.sentiment.value_counts()"
   ]
  },
  {
   "cell_type": "markdown",
   "metadata": {},
   "source": [
    "#### Get data ready for fastText training"
   ]
  },
  {
   "cell_type": "markdown",
   "metadata": {},
   "source": [
    "Save as .txt file for the fastText classifer"
   ]
  },
  {
   "cell_type": "code",
   "execution_count": 315,
   "metadata": {},
   "outputs": [],
   "source": [
    "def prep_data(df, filename=\"\"):\n",
    "    df['ft_sentiment'] = df.sentiment.apply(lambda x: '__label__positive ' if x == 1 else '__label__negative ')\n",
    "    df['ft_text'] = df.ft_sentiment + df.text + '\\n'\n",
    "\n",
    "    txt_list = df.ft_text.tolist()\n",
    "    \n",
    "    with open('./data/{}.txt'.format(filename), 'w') as f:\n",
    "        for item in txt_list:\n",
    "            f.write(\"%s\" % item)\n",
    "    \n",
    "    with open('./data/{}.txt'.format(filename), 'r') as f:\n",
    "        txt = f.readlines()\n",
    "    return txt"
   ]
  },
  {
   "cell_type": "code",
   "execution_count": 318,
   "metadata": {},
   "outputs": [
    {
     "data": {
      "text/plain": [
       "['__label__positive on thee phone with makk watchingg george lopezz bby.! ;) oh yes. by tha wayy...my naynay is amazingly cute ;D\\n',\n",
       " \"__label__negative AT_USER How come you're not at Sizzler?\\n\",\n",
       " \"__label__positive AT_USER I can see it, but we're both following each other.\\n\",\n",
       " \"__label__negative That's helpful. This website I'm trying to access has a ping of over 30 sec. before it loads. Virtually unusable. Worse than my site!\\n\",\n",
       " '__label__negative Envious of sisters new phone. I still have a gray brick\\n',\n",
       " '__label__positive AT_USER Die Waldorfschule rappt schon: URL\\n',\n",
       " '__label__positive AT_USER and ofcourse CONGRATULATIONS\\n',\n",
       " \"__label__negative i'm going to fail in my exam today\\n\",\n",
       " '__label__positive AT_USER I like to be where the tech wind blows Be seeing more updates from you yeah.\\n',\n",
       " \"__label__negative AT_USER today ain't lebrons day.\\n\"]"
      ]
     },
     "execution_count": 318,
     "metadata": {},
     "output_type": "execute_result"
    }
   ],
   "source": [
    "train_txt = prep_data(train, \"train_txt_2\")\n",
    "\n",
    "test_txt = prep_data(test, \"test_txt_2\")\n",
    "test_txt[:10]"
   ]
  },
  {
   "cell_type": "code",
   "execution_count": 136,
   "metadata": {},
   "outputs": [
    {
     "data": {
      "text/plain": [
       "['__label__sauce __label__cheese How much does potato starch affect a cheese sauce recipe?\\n',\n",
       " '__label__food-safety __label__acidity Dangerous pathogens capable of growing in acidic environments\\n',\n",
       " '__label__cast-iron __label__stove How do I cover up the white spots on my cast iron stove?\\n',\n",
       " '__label__restaurant Michelin Three Star Restaurant; but if the chef is not there\\n',\n",
       " '__label__knife-skills __label__dicing Without knife skills, how can I quickly and accurately dice vegetables?\\n',\n",
       " \"__label__storage-method __label__equipment __label__bread What's the purpose of a bread box?\\n\",\n",
       " '__label__baking __label__food-safety __label__substitutions __label__peanuts how to seperate peanut oil from roasted peanuts at home?\\n',\n",
       " '__label__chocolate American equivalent for British chocolate terms\\n',\n",
       " '__label__baking __label__oven __label__convection Fan bake vs bake\\n',\n",
       " '__label__sauce __label__storage-lifetime __label__acidity __label__mayonnaise Regulation and balancing of readymade packed mayonnaise and other sauces\\n']"
      ]
     },
     "execution_count": 136,
     "metadata": {},
     "output_type": "execute_result"
    }
   ],
   "source": [
    "# Compare our text file to the txt file from fasttext tutorial\n",
    "with open('./data/cooking.stackexchange.txt', 'r') as f:\n",
    "    cooking = f.readlines()\n",
    "\n",
    "cooking[:10]"
   ]
  },
  {
   "cell_type": "code",
   "execution_count": 319,
   "metadata": {},
   "outputs": [],
   "source": [
    "# Train model\n",
    "ft_model = ft.train_supervised('./data/train_txt_2.txt', lr=0.05, dim=100, ws=5, epoch=5, minCount=5, neg=5, loss='ns',\n",
    "                               t=1e-4, wordNgrams=3)"
   ]
  },
  {
   "cell_type": "code",
   "execution_count": 320,
   "metadata": {},
   "outputs": [
    {
     "data": {
      "text/plain": [
       "['__label__negative', '__label__positive']"
      ]
     },
     "execution_count": 320,
     "metadata": {},
     "output_type": "execute_result"
    }
   ],
   "source": [
    "ft_model.get_labels()"
   ]
  },
  {
   "cell_type": "code",
   "execution_count": 321,
   "metadata": {},
   "outputs": [
    {
     "data": {
      "text/plain": [
       "'__label__negative'"
      ]
     },
     "execution_count": 321,
     "metadata": {},
     "output_type": "execute_result"
    }
   ],
   "source": [
    "ft_model.predict('would like my jacket back tonight i miss it.')[0][0]"
   ]
  },
  {
   "cell_type": "code",
   "execution_count": 322,
   "metadata": {},
   "outputs": [],
   "source": [
    "ft_model.save_model('ft_model_3ngrams_data_2.pickle')"
   ]
  },
  {
   "cell_type": "code",
   "execution_count": 324,
   "metadata": {},
   "outputs": [],
   "source": [
    "test_results = ft_model.test(\"./data/test_txt_2.txt\")"
   ]
  },
  {
   "cell_type": "code",
   "execution_count": 325,
   "metadata": {},
   "outputs": [
    {
     "name": "stdout",
     "output_type": "stream",
     "text": [
      "F1 Score: 79.86%\n"
     ]
    }
   ],
   "source": [
    "# Model 1: 79.71\n",
    "# Model 2: 79.75\n",
    "# Model 3: 79.86\n",
    "print(\"F1 Score: {}%\".format(round(test_results[1]*100,2)))"
   ]
  },
  {
   "cell_type": "code",
   "execution_count": 304,
   "metadata": {},
   "outputs": [
    {
     "data": {
      "text/plain": [
       "{'__label__negative': {'precision': 0.7996520207949019,\n",
       "  'recall': 0.7941748381321175,\n",
       "  'f1score': 0.7969040183001348},\n",
       " '__label__positive': {'precision': 0.795295676660593,\n",
       "  'recall': 0.8007505159797361,\n",
       "  'f1score': 0.7980137747628891}}"
      ]
     },
     "execution_count": 304,
     "metadata": {},
     "output_type": "execute_result"
    }
   ],
   "source": [
    "ft_model.test_label(\"./data/test_txt_2.txt\")"
   ]
  },
  {
   "cell_type": "markdown",
   "metadata": {},
   "source": [
    "### Apply trained fastText model to buhari_tweets df"
   ]
  },
  {
   "cell_type": "code",
   "execution_count": 280,
   "metadata": {},
   "outputs": [
    {
     "data": {
      "text/plain": [
       "(3612, 5)"
      ]
     },
     "execution_count": 280,
     "metadata": {},
     "output_type": "execute_result"
    }
   ],
   "source": [
    "tweets_to_analyse.shape"
   ]
  },
  {
   "cell_type": "code",
   "execution_count": 326,
   "metadata": {
    "scrolled": true
   },
   "outputs": [
    {
     "name": "stderr",
     "output_type": "stream",
     "text": [
      "/anaconda3/lib/python3.6/site-packages/ipykernel/__main__.py:1: SettingWithCopyWarning: \n",
      "A value is trying to be set on a copy of a slice from a DataFrame.\n",
      "Try using .loc[row_indexer,col_indexer] = value instead\n",
      "\n",
      "See the caveats in the documentation: http://pandas.pydata.org/pandas-docs/stable/indexing.html#indexing-view-versus-copy\n",
      "  if __name__ == '__main__':\n",
      "/anaconda3/lib/python3.6/site-packages/ipykernel/__main__.py:2: SettingWithCopyWarning: \n",
      "A value is trying to be set on a copy of a slice from a DataFrame.\n",
      "Try using .loc[row_indexer,col_indexer] = value instead\n",
      "\n",
      "See the caveats in the documentation: http://pandas.pydata.org/pandas-docs/stable/indexing.html#indexing-view-versus-copy\n",
      "  from ipykernel import kernelapp as app\n",
      "/anaconda3/lib/python3.6/site-packages/ipykernel/__main__.py:4: SettingWithCopyWarning: \n",
      "A value is trying to be set on a copy of a slice from a DataFrame.\n",
      "Try using .loc[row_indexer,col_indexer] = value instead\n",
      "\n",
      "See the caveats in the documentation: http://pandas.pydata.org/pandas-docs/stable/indexing.html#indexing-view-versus-copy\n"
     ]
    }
   ],
   "source": [
    "tweets_to_analyse['ft_predict'] = tweets_to_analyse.text.apply(ft_model.predict)\n",
    "tweets_to_analyse[\"sentiment\"] = tweets_to_analyse.ft_predict.apply(lambda x: 1 if x[0][0] == '__label__positive' else\n",
    "                                                               0)\n",
    "tweets_to_analyse['sentiment_prob'] = tweets_to_analyse.ft_predict.apply(lambda x: x[1][0])"
   ]
  },
  {
   "cell_type": "code",
   "execution_count": 327,
   "metadata": {},
   "outputs": [
    {
     "data": {
      "text/html": [
       "<div>\n",
       "<style scoped>\n",
       "    .dataframe tbody tr th:only-of-type {\n",
       "        vertical-align: middle;\n",
       "    }\n",
       "\n",
       "    .dataframe tbody tr th {\n",
       "        vertical-align: top;\n",
       "    }\n",
       "\n",
       "    .dataframe thead th {\n",
       "        text-align: right;\n",
       "    }\n",
       "</style>\n",
       "<table border=\"1\" class=\"dataframe\">\n",
       "  <thead>\n",
       "    <tr style=\"text-align: right;\">\n",
       "      <th></th>\n",
       "      <th>created_at</th>\n",
       "      <th>created_date</th>\n",
       "      <th>text</th>\n",
       "      <th>user</th>\n",
       "      <th>sentiment</th>\n",
       "      <th>ft_predict</th>\n",
       "      <th>sentiment_prob</th>\n",
       "    </tr>\n",
       "  </thead>\n",
       "  <tbody>\n",
       "    <tr>\n",
       "      <th>0</th>\n",
       "      <td>2015-01-06 23:49:00</td>\n",
       "      <td>Jan 2015</td>\n",
       "      <td>‘I Am Not Yusuf Buhari’ – Man Whose Photo Has ...</td>\n",
       "      <td>{'id': 452244192, 'id_str': '452244192', 'name...</td>\n",
       "      <td>1</td>\n",
       "      <td>((__label__positive,), [0.6161513924598694])</td>\n",
       "      <td>0.616151</td>\n",
       "    </tr>\n",
       "    <tr>\n",
       "      <th>1</th>\n",
       "      <td>2015-01-06 23:49:00</td>\n",
       "      <td>Jan 2015</td>\n",
       "      <td>AT_USER God knows how much work i have done to...</td>\n",
       "      <td>{'id': 180585051, 'id_str': '180585051', 'name...</td>\n",
       "      <td>0</td>\n",
       "      <td>((__label__negative,), [0.5765721797943115])</td>\n",
       "      <td>0.576572</td>\n",
       "    </tr>\n",
       "    <tr>\n",
       "      <th>2</th>\n",
       "      <td>2015-01-06 23:49:00</td>\n",
       "      <td>Jan 2015</td>\n",
       "      <td>Nigeria: la lutte contre Boko Haram au cœur de...</td>\n",
       "      <td>{'id': 159917005, 'id_str': '159917005', 'name...</td>\n",
       "      <td>1</td>\n",
       "      <td>((__label__positive,), [0.961310625076294])</td>\n",
       "      <td>0.961311</td>\n",
       "    </tr>\n",
       "    <tr>\n",
       "      <th>3</th>\n",
       "      <td>2015-01-06 23:49:00</td>\n",
       "      <td>Jan 2015</td>\n",
       "      <td>Metro UK Uses Wrong Picture In A Story As Pres...</td>\n",
       "      <td>{'id': 2981781262, 'id_str': '2981781262', 'na...</td>\n",
       "      <td>0</td>\n",
       "      <td>((__label__negative,), [1.0000079870224])</td>\n",
       "      <td>1.000008</td>\n",
       "    </tr>\n",
       "    <tr>\n",
       "      <th>4</th>\n",
       "      <td>2015-01-06 23:50:00</td>\n",
       "      <td>Jan 2015</td>\n",
       "      <td>AT_USER InCaseYouMissThis: ‘I am not Yusuf Buh...</td>\n",
       "      <td>{'id': 2166499707, 'id_str': '2166499707', 'na...</td>\n",
       "      <td>0</td>\n",
       "      <td>((__label__negative,), [0.5626090168952942])</td>\n",
       "      <td>0.562609</td>\n",
       "    </tr>\n",
       "  </tbody>\n",
       "</table>\n",
       "</div>"
      ],
      "text/plain": [
       "           created_at created_date  \\\n",
       "0 2015-01-06 23:49:00     Jan 2015   \n",
       "1 2015-01-06 23:49:00     Jan 2015   \n",
       "2 2015-01-06 23:49:00     Jan 2015   \n",
       "3 2015-01-06 23:49:00     Jan 2015   \n",
       "4 2015-01-06 23:50:00     Jan 2015   \n",
       "\n",
       "                                                text  \\\n",
       "0  ‘I Am Not Yusuf Buhari’ – Man Whose Photo Has ...   \n",
       "1  AT_USER God knows how much work i have done to...   \n",
       "2  Nigeria: la lutte contre Boko Haram au cœur de...   \n",
       "3  Metro UK Uses Wrong Picture In A Story As Pres...   \n",
       "4  AT_USER InCaseYouMissThis: ‘I am not Yusuf Buh...   \n",
       "\n",
       "                                                user  sentiment  \\\n",
       "0  {'id': 452244192, 'id_str': '452244192', 'name...          1   \n",
       "1  {'id': 180585051, 'id_str': '180585051', 'name...          0   \n",
       "2  {'id': 159917005, 'id_str': '159917005', 'name...          1   \n",
       "3  {'id': 2981781262, 'id_str': '2981781262', 'na...          0   \n",
       "4  {'id': 2166499707, 'id_str': '2166499707', 'na...          0   \n",
       "\n",
       "                                     ft_predict  sentiment_prob  \n",
       "0  ((__label__positive,), [0.6161513924598694])        0.616151  \n",
       "1  ((__label__negative,), [0.5765721797943115])        0.576572  \n",
       "2   ((__label__positive,), [0.961310625076294])        0.961311  \n",
       "3     ((__label__negative,), [1.0000079870224])        1.000008  \n",
       "4  ((__label__negative,), [0.5626090168952942])        0.562609  "
      ]
     },
     "execution_count": 327,
     "metadata": {},
     "output_type": "execute_result"
    }
   ],
   "source": [
    "tweets_to_analyse.head()"
   ]
  },
  {
   "cell_type": "code",
   "execution_count": 328,
   "metadata": {},
   "outputs": [],
   "source": [
    "def print_tweet_sentiment(index=0):\n",
    "    print(\"{0}, sentiment:{1}\".format(tweets_to_analyse.text[index], tweets_to_analyse.sentiment[index]))"
   ]
  },
  {
   "cell_type": "code",
   "execution_count": 333,
   "metadata": {},
   "outputs": [
    {
     "name": "stdout",
     "output_type": "stream",
     "text": [
      "Ardo: BUHARI INHERITED SERIOUS CHALLENGES – G7 LEADERS URL, sentiment:1\n"
     ]
    }
   ],
   "source": [
    "print_tweet_sentiment(320)"
   ]
  },
  {
   "cell_type": "code",
   "execution_count": 330,
   "metadata": {},
   "outputs": [
    {
     "data": {
      "text/plain": [
       "1    2321\n",
       "0    1291\n",
       "Name: sentiment, dtype: int64"
      ]
     },
     "execution_count": 330,
     "metadata": {},
     "output_type": "execute_result"
    }
   ],
   "source": [
    "tweets_to_analyse.sentiment.value_counts()"
   ]
  },
  {
   "cell_type": "code",
   "execution_count": 331,
   "metadata": {
    "scrolled": true
   },
   "outputs": [
    {
     "data": {
      "text/html": [
       "<div>\n",
       "<style scoped>\n",
       "    .dataframe tbody tr th:only-of-type {\n",
       "        vertical-align: middle;\n",
       "    }\n",
       "\n",
       "    .dataframe tbody tr th {\n",
       "        vertical-align: top;\n",
       "    }\n",
       "\n",
       "    .dataframe thead th {\n",
       "        text-align: right;\n",
       "    }\n",
       "</style>\n",
       "<table border=\"1\" class=\"dataframe\">\n",
       "  <thead>\n",
       "    <tr style=\"text-align: right;\">\n",
       "      <th></th>\n",
       "      <th></th>\n",
       "      <th>text</th>\n",
       "    </tr>\n",
       "    <tr>\n",
       "      <th>created_date</th>\n",
       "      <th>sentiment</th>\n",
       "      <th></th>\n",
       "    </tr>\n",
       "  </thead>\n",
       "  <tbody>\n",
       "    <tr>\n",
       "      <th rowspan=\"2\" valign=\"top\">Jan 2015</th>\n",
       "      <th>0</th>\n",
       "      <td>70</td>\n",
       "    </tr>\n",
       "    <tr>\n",
       "      <th>1</th>\n",
       "      <td>111</td>\n",
       "    </tr>\n",
       "    <tr>\n",
       "      <th rowspan=\"2\" valign=\"top\">Jan 2016</th>\n",
       "      <th>0</th>\n",
       "      <td>105</td>\n",
       "    </tr>\n",
       "    <tr>\n",
       "      <th>1</th>\n",
       "      <td>183</td>\n",
       "    </tr>\n",
       "    <tr>\n",
       "      <th rowspan=\"2\" valign=\"top\">Jan 2017</th>\n",
       "      <th>0</th>\n",
       "      <td>94</td>\n",
       "    </tr>\n",
       "    <tr>\n",
       "      <th>1</th>\n",
       "      <td>175</td>\n",
       "    </tr>\n",
       "    <tr>\n",
       "      <th rowspan=\"2\" valign=\"top\">Jan 2018</th>\n",
       "      <th>0</th>\n",
       "      <td>88</td>\n",
       "    </tr>\n",
       "    <tr>\n",
       "      <th>1</th>\n",
       "      <td>124</td>\n",
       "    </tr>\n",
       "    <tr>\n",
       "      <th rowspan=\"2\" valign=\"top\">Jun 2015</th>\n",
       "      <th>0</th>\n",
       "      <td>60</td>\n",
       "    </tr>\n",
       "    <tr>\n",
       "      <th>1</th>\n",
       "      <td>109</td>\n",
       "    </tr>\n",
       "    <tr>\n",
       "      <th rowspan=\"2\" valign=\"top\">Jun 2016</th>\n",
       "      <th>0</th>\n",
       "      <td>54</td>\n",
       "    </tr>\n",
       "    <tr>\n",
       "      <th>1</th>\n",
       "      <td>117</td>\n",
       "    </tr>\n",
       "    <tr>\n",
       "      <th rowspan=\"2\" valign=\"top\">Jun 2017</th>\n",
       "      <th>0</th>\n",
       "      <td>77</td>\n",
       "    </tr>\n",
       "    <tr>\n",
       "      <th>1</th>\n",
       "      <td>92</td>\n",
       "    </tr>\n",
       "    <tr>\n",
       "      <th rowspan=\"2\" valign=\"top\">Jun 2018</th>\n",
       "      <th>0</th>\n",
       "      <td>74</td>\n",
       "    </tr>\n",
       "    <tr>\n",
       "      <th>1</th>\n",
       "      <td>159</td>\n",
       "    </tr>\n",
       "    <tr>\n",
       "      <th rowspan=\"2\" valign=\"top\">Mar 2015</th>\n",
       "      <th>0</th>\n",
       "      <td>29</td>\n",
       "    </tr>\n",
       "    <tr>\n",
       "      <th>1</th>\n",
       "      <td>34</td>\n",
       "    </tr>\n",
       "    <tr>\n",
       "      <th rowspan=\"2\" valign=\"top\">Mar 2016</th>\n",
       "      <th>0</th>\n",
       "      <td>70</td>\n",
       "    </tr>\n",
       "    <tr>\n",
       "      <th>1</th>\n",
       "      <td>141</td>\n",
       "    </tr>\n",
       "    <tr>\n",
       "      <th rowspan=\"2\" valign=\"top\">Mar 2017</th>\n",
       "      <th>0</th>\n",
       "      <td>70</td>\n",
       "    </tr>\n",
       "    <tr>\n",
       "      <th>1</th>\n",
       "      <td>132</td>\n",
       "    </tr>\n",
       "    <tr>\n",
       "      <th rowspan=\"2\" valign=\"top\">Mar 2018</th>\n",
       "      <th>0</th>\n",
       "      <td>83</td>\n",
       "    </tr>\n",
       "    <tr>\n",
       "      <th>1</th>\n",
       "      <td>133</td>\n",
       "    </tr>\n",
       "    <tr>\n",
       "      <th rowspan=\"2\" valign=\"top\">Nov 2015</th>\n",
       "      <th>0</th>\n",
       "      <td>41</td>\n",
       "    </tr>\n",
       "    <tr>\n",
       "      <th>1</th>\n",
       "      <td>120</td>\n",
       "    </tr>\n",
       "    <tr>\n",
       "      <th rowspan=\"2\" valign=\"top\">Nov 2016</th>\n",
       "      <th>0</th>\n",
       "      <td>67</td>\n",
       "    </tr>\n",
       "    <tr>\n",
       "      <th>1</th>\n",
       "      <td>114</td>\n",
       "    </tr>\n",
       "    <tr>\n",
       "      <th rowspan=\"2\" valign=\"top\">Nov 2017</th>\n",
       "      <th>0</th>\n",
       "      <td>69</td>\n",
       "    </tr>\n",
       "    <tr>\n",
       "      <th>1</th>\n",
       "      <td>116</td>\n",
       "    </tr>\n",
       "    <tr>\n",
       "      <th rowspan=\"2\" valign=\"top\">Nov 2018</th>\n",
       "      <th>0</th>\n",
       "      <td>57</td>\n",
       "    </tr>\n",
       "    <tr>\n",
       "      <th>1</th>\n",
       "      <td>93</td>\n",
       "    </tr>\n",
       "    <tr>\n",
       "      <th rowspan=\"2\" valign=\"top\">Sep 2015</th>\n",
       "      <th>0</th>\n",
       "      <td>36</td>\n",
       "    </tr>\n",
       "    <tr>\n",
       "      <th>1</th>\n",
       "      <td>102</td>\n",
       "    </tr>\n",
       "    <tr>\n",
       "      <th rowspan=\"2\" valign=\"top\">Sep 2016</th>\n",
       "      <th>0</th>\n",
       "      <td>54</td>\n",
       "    </tr>\n",
       "    <tr>\n",
       "      <th>1</th>\n",
       "      <td>75</td>\n",
       "    </tr>\n",
       "    <tr>\n",
       "      <th rowspan=\"2\" valign=\"top\">Sep 2017</th>\n",
       "      <th>0</th>\n",
       "      <td>54</td>\n",
       "    </tr>\n",
       "    <tr>\n",
       "      <th>1</th>\n",
       "      <td>83</td>\n",
       "    </tr>\n",
       "    <tr>\n",
       "      <th rowspan=\"2\" valign=\"top\">Sep 2018</th>\n",
       "      <th>0</th>\n",
       "      <td>39</td>\n",
       "    </tr>\n",
       "    <tr>\n",
       "      <th>1</th>\n",
       "      <td>108</td>\n",
       "    </tr>\n",
       "  </tbody>\n",
       "</table>\n",
       "</div>"
      ],
      "text/plain": [
       "                        text\n",
       "created_date sentiment      \n",
       "Jan 2015     0            70\n",
       "             1           111\n",
       "Jan 2016     0           105\n",
       "             1           183\n",
       "Jan 2017     0            94\n",
       "             1           175\n",
       "Jan 2018     0            88\n",
       "             1           124\n",
       "Jun 2015     0            60\n",
       "             1           109\n",
       "Jun 2016     0            54\n",
       "             1           117\n",
       "Jun 2017     0            77\n",
       "             1            92\n",
       "Jun 2018     0            74\n",
       "             1           159\n",
       "Mar 2015     0            29\n",
       "             1            34\n",
       "Mar 2016     0            70\n",
       "             1           141\n",
       "Mar 2017     0            70\n",
       "             1           132\n",
       "Mar 2018     0            83\n",
       "             1           133\n",
       "Nov 2015     0            41\n",
       "             1           120\n",
       "Nov 2016     0            67\n",
       "             1           114\n",
       "Nov 2017     0            69\n",
       "             1           116\n",
       "Nov 2018     0            57\n",
       "             1            93\n",
       "Sep 2015     0            36\n",
       "             1           102\n",
       "Sep 2016     0            54\n",
       "             1            75\n",
       "Sep 2017     0            54\n",
       "             1            83\n",
       "Sep 2018     0            39\n",
       "             1           108"
      ]
     },
     "execution_count": 331,
     "metadata": {},
     "output_type": "execute_result"
    }
   ],
   "source": [
    "sentiment_by_month = tweets_to_analyse[['created_date', 'sentiment', 'text']].groupby(['created_date', \n",
    "                                                                                       'sentiment']).count()\n",
    "sentiment_by_month"
   ]
  },
  {
   "cell_type": "code",
   "execution_count": 332,
   "metadata": {},
   "outputs": [
    {
     "data": {
      "text/html": [
       "<div>\n",
       "<style scoped>\n",
       "    .dataframe tbody tr th:only-of-type {\n",
       "        vertical-align: middle;\n",
       "    }\n",
       "\n",
       "    .dataframe tbody tr th {\n",
       "        vertical-align: top;\n",
       "    }\n",
       "\n",
       "    .dataframe thead th {\n",
       "        text-align: right;\n",
       "    }\n",
       "</style>\n",
       "<table border=\"1\" class=\"dataframe\">\n",
       "  <thead>\n",
       "    <tr style=\"text-align: right;\">\n",
       "      <th></th>\n",
       "      <th>text</th>\n",
       "    </tr>\n",
       "    <tr>\n",
       "      <th>created_date</th>\n",
       "      <th></th>\n",
       "    </tr>\n",
       "  </thead>\n",
       "  <tbody>\n",
       "    <tr>\n",
       "      <th>Jan 2015</th>\n",
       "      <td>0.613260</td>\n",
       "    </tr>\n",
       "    <tr>\n",
       "      <th>Jan 2016</th>\n",
       "      <td>0.635417</td>\n",
       "    </tr>\n",
       "    <tr>\n",
       "      <th>Jan 2017</th>\n",
       "      <td>0.650558</td>\n",
       "    </tr>\n",
       "    <tr>\n",
       "      <th>Jan 2018</th>\n",
       "      <td>0.584906</td>\n",
       "    </tr>\n",
       "    <tr>\n",
       "      <th>Jun 2015</th>\n",
       "      <td>0.644970</td>\n",
       "    </tr>\n",
       "    <tr>\n",
       "      <th>Jun 2016</th>\n",
       "      <td>0.684211</td>\n",
       "    </tr>\n",
       "    <tr>\n",
       "      <th>Jun 2017</th>\n",
       "      <td>0.544379</td>\n",
       "    </tr>\n",
       "    <tr>\n",
       "      <th>Jun 2018</th>\n",
       "      <td>0.682403</td>\n",
       "    </tr>\n",
       "    <tr>\n",
       "      <th>Mar 2015</th>\n",
       "      <td>0.539683</td>\n",
       "    </tr>\n",
       "    <tr>\n",
       "      <th>Mar 2016</th>\n",
       "      <td>0.668246</td>\n",
       "    </tr>\n",
       "    <tr>\n",
       "      <th>Mar 2017</th>\n",
       "      <td>0.653465</td>\n",
       "    </tr>\n",
       "    <tr>\n",
       "      <th>Mar 2018</th>\n",
       "      <td>0.615741</td>\n",
       "    </tr>\n",
       "    <tr>\n",
       "      <th>Nov 2015</th>\n",
       "      <td>0.745342</td>\n",
       "    </tr>\n",
       "    <tr>\n",
       "      <th>Nov 2016</th>\n",
       "      <td>0.629834</td>\n",
       "    </tr>\n",
       "    <tr>\n",
       "      <th>Nov 2017</th>\n",
       "      <td>0.627027</td>\n",
       "    </tr>\n",
       "    <tr>\n",
       "      <th>Nov 2018</th>\n",
       "      <td>0.620000</td>\n",
       "    </tr>\n",
       "    <tr>\n",
       "      <th>Sep 2015</th>\n",
       "      <td>0.739130</td>\n",
       "    </tr>\n",
       "    <tr>\n",
       "      <th>Sep 2016</th>\n",
       "      <td>0.581395</td>\n",
       "    </tr>\n",
       "    <tr>\n",
       "      <th>Sep 2017</th>\n",
       "      <td>0.605839</td>\n",
       "    </tr>\n",
       "    <tr>\n",
       "      <th>Sep 2018</th>\n",
       "      <td>0.734694</td>\n",
       "    </tr>\n",
       "  </tbody>\n",
       "</table>\n",
       "</div>"
      ],
      "text/plain": [
       "                  text\n",
       "created_date          \n",
       "Jan 2015      0.613260\n",
       "Jan 2016      0.635417\n",
       "Jan 2017      0.650558\n",
       "Jan 2018      0.584906\n",
       "Jun 2015      0.644970\n",
       "Jun 2016      0.684211\n",
       "Jun 2017      0.544379\n",
       "Jun 2018      0.682403\n",
       "Mar 2015      0.539683\n",
       "Mar 2016      0.668246\n",
       "Mar 2017      0.653465\n",
       "Mar 2018      0.615741\n",
       "Nov 2015      0.745342\n",
       "Nov 2016      0.629834\n",
       "Nov 2017      0.627027\n",
       "Nov 2018      0.620000\n",
       "Sep 2015      0.739130\n",
       "Sep 2016      0.581395\n",
       "Sep 2017      0.605839\n",
       "Sep 2018      0.734694"
      ]
     },
     "execution_count": 332,
     "metadata": {},
     "output_type": "execute_result"
    }
   ],
   "source": [
    "sentiment_by_month.xs(1, level=1) / (sentiment_by_month.xs(1, level=1) + sentiment_by_month.xs(0, level=1))"
   ]
  },
  {
   "cell_type": "code",
   "execution_count": null,
   "metadata": {},
   "outputs": [],
   "source": []
  }
 ],
 "metadata": {
  "kernelspec": {
   "display_name": "Python [conda root]",
   "language": "python",
   "name": "conda-root-py"
  },
  "language_info": {
   "codemirror_mode": {
    "name": "ipython",
    "version": 3
   },
   "file_extension": ".py",
   "mimetype": "text/x-python",
   "name": "python",
   "nbconvert_exporter": "python",
   "pygments_lexer": "ipython3",
   "version": "3.6.5"
  }
 },
 "nbformat": 4,
 "nbformat_minor": 2
}
